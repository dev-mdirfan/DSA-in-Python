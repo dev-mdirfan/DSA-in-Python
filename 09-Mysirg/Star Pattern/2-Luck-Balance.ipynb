{
 "cells": [
  {
   "cell_type": "markdown",
   "metadata": {},
   "source": [
    "# Luck Balance"
   ]
  },
  {
   "cell_type": "code",
   "execution_count": null,
   "metadata": {},
   "outputs": [],
   "source": [
    "def luckBalance(k, contests):\n",
    "    # Write your code here\n",
    "    contests.sort(reverse = True)\n",
    "    luck = 0\n",
    "    for i in range(len(contests)):\n",
    "        if contests[i][1]==0:\n",
    "                luck += contests[i][0]\n",
    "        elif k>0:\n",
    "            luck += contests[i][0]\n",
    "            k -= 1\n",
    "        else:\n",
    "            luck -= contests[i][0]\n",
    "    return luck"
   ]
  }
 ],
 "metadata": {
  "kernelspec": {
   "display_name": "Python 3.10.6 64-bit",
   "language": "python",
   "name": "python3"
  },
  "language_info": {
   "name": "python",
   "version": "3.10.6"
  },
  "orig_nbformat": 4,
  "vscode": {
   "interpreter": {
    "hash": "26de051ba29f2982a8de78e945f0abaf191376122a1563185a90213a26c5da77"
   }
  }
 },
 "nbformat": 4,
 "nbformat_minor": 2
}
