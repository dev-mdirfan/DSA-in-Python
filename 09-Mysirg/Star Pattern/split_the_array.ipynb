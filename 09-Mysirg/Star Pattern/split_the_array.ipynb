{
 "cells": [
  {
   "cell_type": "markdown",
   "metadata": {},
   "source": [
    "# Split the array (GCD):\n",
    "\n",
    "- [4, 5, 6, 7, 8, 5, 3]\n",
    "- ans: 3 subarrays\n",
    "\n",
    "- [19, 28, 14, 20, 1, 3, 9, 5, 3]"
   ]
  },
  {
   "cell_type": "code",
   "execution_count": 1,
   "metadata": {},
   "outputs": [
    {
     "ename": "IndexError",
     "evalue": "list assignment index out of range",
     "output_type": "error",
     "traceback": [
      "\u001b[1;31m---------------------------------------------------------------------------\u001b[0m",
      "\u001b[1;31mIndexError\u001b[0m                                Traceback (most recent call last)",
      "Cell \u001b[1;32mIn [1], line 9\u001b[0m\n\u001b[0;32m      7\u001b[0m n \u001b[39m=\u001b[39m \u001b[39mlen\u001b[39m(arr)\n\u001b[0;32m      8\u001b[0m ans \u001b[39m=\u001b[39m []\u001b[39m*\u001b[39m(n\u001b[39m+\u001b[39m\u001b[39m1\u001b[39m)\n\u001b[1;32m----> 9\u001b[0m ans[\u001b[39m0\u001b[39;49m] \u001b[39m=\u001b[39m \u001b[39m0\u001b[39m\n\u001b[0;32m     10\u001b[0m \u001b[39mfor\u001b[39;00m i \u001b[39min\u001b[39;00m \u001b[39mrange\u001b[39m(n):\n\u001b[0;32m     11\u001b[0m     ans[i] \u001b[39m=\u001b[39m ans[i\u001b[39m-\u001b[39m\u001b[39m1\u001b[39m]\n",
      "\u001b[1;31mIndexError\u001b[0m: list assignment index out of range"
     ]
    }
   ],
   "source": [
    "# [4, 5, 7, 8, 5, 3]\n",
    "\n",
    "# [19, 28, 14, 20, 1, 3, 9, 5, 3]\n",
    "import math\n",
    "\n",
    "arr = [19, 28, 14, 20, 1, 3, 9, 5, 3]\n",
    "n = len(arr)\n",
    "ans = []*(n+1)\n",
    "ans[0] = 0\n",
    "for i in range(n):\n",
    "    ans[i] = ans[i-1]\n",
    "    for i in range(i+1):\n",
    "        gcd = math.gcd(arr[0], arr[i])\n",
    "        if gcd>1:\n",
    "            ans[i] = gcd\n",
    "\n",
    "print(ans[-1])"
   ]
  }
 ],
 "metadata": {
  "kernelspec": {
   "display_name": "Python 3.11.0 64-bit",
   "language": "python",
   "name": "python3"
  },
  "language_info": {
   "codemirror_mode": {
    "name": "ipython",
    "version": 3
   },
   "file_extension": ".py",
   "mimetype": "text/x-python",
   "name": "python",
   "nbconvert_exporter": "python",
   "pygments_lexer": "ipython3",
   "version": "3.11.0"
  },
  "orig_nbformat": 4,
  "vscode": {
   "interpreter": {
    "hash": "82d9d5659f3d8ab8aef5b21628bea81f8a54744897a35e9a0b744c3a326eab33"
   }
  }
 },
 "nbformat": 4,
 "nbformat_minor": 2
}
