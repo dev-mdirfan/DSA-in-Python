{
 "cells": [
  {
   "cell_type": "code",
   "execution_count": 9,
   "metadata": {},
   "outputs": [
    {
     "name": "stdout",
     "output_type": "stream",
     "text": [
      "{2: 1, 3: 1, 1: 3, 4: 2, 5: 3, 6: 4}\n",
      "[1, 2, 3, 4, 5, 6]\n"
     ]
    },
    {
     "data": {
      "text/plain": [
       "[1, 1, 2, 3, 3, 4]"
      ]
     },
     "execution_count": 9,
     "metadata": {},
     "output_type": "execute_result"
    }
   ],
   "source": [
    "x = [2,3,1,1,1,4,4,5,5,5,6,6,6,6]\n",
    "d = {}\n",
    "l = []\n",
    "for i in x:\n",
    "    if i in d:\n",
    "        d[i] +=1\n",
    "    else:\n",
    "        d[i] = 1\n",
    "print(d)\n",
    "for i in:\n",
    "# l = []\n",
    "# for i in d.values():\n",
    "#     p = 0\n",
    "#     for j in range(i):\n",
    "#         l.append(d[p])\n",
    "print(sorted(d))\n",
    "sorted(d.values())"
   ]
  },
  {
   "cell_type": "code",
   "execution_count": 14,
   "metadata": {},
   "outputs": [
    {
     "name": "stdout",
     "output_type": "stream",
     "text": [
      "[(1, 2), (2, 7), (3, 5), (4, 8), (5, 9), (6, 3), (7, 4), (8, 6)]\n",
      "[(0, 2), (1, 7), (2, 5), (3, 8), (4, 9), (5, 3), (6, 4), (7, 6)]\n"
     ]
    }
   ],
   "source": [
    "a = [2,7,5,8,9,3,4,6]\n",
    "print(list(enumerate(a, 1)))\n",
    "print(list(enumerate(a)))"
   ]
  }
 ],
 "metadata": {
  "kernelspec": {
   "display_name": "Python 3.10.4 64-bit",
   "language": "python",
   "name": "python3"
  },
  "language_info": {
   "codemirror_mode": {
    "name": "ipython",
    "version": 3
   },
   "file_extension": ".py",
   "mimetype": "text/x-python",
   "name": "python",
   "nbconvert_exporter": "python",
   "pygments_lexer": "ipython3",
   "version": "3.10.4"
  },
  "orig_nbformat": 4,
  "vscode": {
   "interpreter": {
    "hash": "21a211638620dc4d13124771efa70334ad80aea274b054c266d925d2e2a04b1b"
   }
  }
 },
 "nbformat": 4,
 "nbformat_minor": 2
}
