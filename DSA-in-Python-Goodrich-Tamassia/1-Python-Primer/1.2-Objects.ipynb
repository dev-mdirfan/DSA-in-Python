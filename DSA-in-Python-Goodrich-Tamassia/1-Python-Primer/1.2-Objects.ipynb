{
 "cells": [
  {
   "cell_type": "markdown",
   "metadata": {},
   "source": [
    "# 1.2 Objects\n",
    "\n",
    "- Python is an object-oriented language and **classes** from the basis for all data types.\n",
    "- Python has built-in classes, such as the `int` class for integers.\n",
    "- The `float` class for floating-point values,\n",
    "- and the `str` class for character strings.\n",
    "\n",
    "## 1.2.1 Identifiers, Objects and the Assignment Statement\n",
    "\n",
    "- The most important of all Python commands is an **assignment statement**, such as -"
   ]
  },
  {
   "cell_type": "code",
   "execution_count": 1,
   "metadata": {},
   "outputs": [],
   "source": [
    "temperature = 98.6"
   ]
  },
  {
   "cell_type": "markdown",
   "metadata": {},
   "source": [
    "- This command establishes temperature as an identifier (also known as name), and then associates it with the **object** expressed on the right-hand side of the equal sign, in this case a floating-point object with value 98.6.\n",
    "\n",
    "|float|\n",
    "|---|\n",
    "|98.6|\n",
    "\n",
    "⬆️\n",
    "temperature\n",
    "\n",
    "**Figure 1.1:** The identifier `temperature` references an instance of the float class having value 98.6.\n",
    "\n",
    "### 1. Identifier\n",
    "\n",
    "- Identifiers in Python are case sensitive.\n",
    "- so temperature and Temperature are distinct names.\n",
    "- Identifier can be composed of almost any combination of letters, numerals, and underscore characters (or more general Unicode characters).\n",
    "- The primary restriction are that an identifier cannot begin with a numeral (thus 9lives is an illegal name).\n",
    "- There are 33 specially reserved words that cannot be used as identifiers.\n",
    "\n",
    "**Table 1.1:** A list of the reserved words in Python. These names cannot be used as identifier.\n",
    "\n",
    "|Reserved Words 7|Reserved Words 7|Reserved Words 7|Reserved Words 7|Reserved Words 5|\n",
    "|---|---|---|---|---|\n",
    "|None|for|pass|class|try|\n",
    "|and|while|break|assert|except|\n",
    "|or|if|continue|def|finally|\n",
    "|not|elif|from|del|raise|\n",
    "|in|else|import|lambda|with|\n",
    "|is|True|global|yield||\n",
    "|as|False|nonlocal|return||\n",
    "\n",
    "- The semantics of a Python identifier is most similar to a **reference variable** in Java or a **pointer variable** in C++.\n",
    "- Each identifier is implicitly associated with the **memory address** of the object to which it refers.\n",
    "- A Python identifier may be assigned to a special object named `None`, serving a similar purpose to a null reference in Java or C++.\n",
    "\n",
    "### 2. Dynamically Typed\n",
    "\n",
    "- Unlike Java and C++, Python is a **dynamically typed** language, as there is no advance declaration associating an identifier with a particular data type.\n",
    "- Dynamic typing means that the type of the variable is determined only during runtime.\n",
    "- Due to dynamic typing, in Python the same variable can have a different type at different times during the execution. Dynamic typing allows for flexibility in programming, but with a price in performance.\n",
    "- An identifier can be associated with any type of object, and it can later be reassigned to another object of the same (or different) type.\n",
    "- Although an identifier has no declared type, the object to which it refers has a definite type.\n",
    "- In our first example, the character 98.6 are recognized as a floating-point literal, and thus the identifier temperature is associated with an instance of the float class having that value.\n",
    "\n",
    "### 3. Literal\n",
    "\n",
    "- Python literals are quantities/ notations whose value does not change during the execution of a program.\n",
    "- Literals in Python are nothing but a succinct way of representing the data types. In simpler words, it is the way to represent a fixed value in our source code. They can either be numbers, text, boolean or any other form of data.\n",
    "- We have the concept of **constants** in Python as well! They are known as literals in Python.\n",
    "- There are five types of literal in Python, which are as follows-\n",
    "  1. **String Literals :** Single-line String, Multi-line String.\n",
    "  2. **Numeric Literals :** Integer, Float, Complex, Long.\n",
    "  3. **Boolean Literals :** True, False.\n",
    "  4. **Special Literals :** None\n",
    "  5. **Literal Collections :** List Literals, Tuple Literals, Dictionary Literals, Set Literals.\n",
    "\n",
    "### 4. Strongly Typed\n",
    "\n",
    "- Strong typing means that variables do have a type and that the type matters when performing operations on a variable.\n",
    "- Due to strong typing, types need to be compatible with respect to the operand when performing operations. For example Python allows one to add an integer and a floating point number, but adding an integer to a string produces error.\n",
    "\n",
    "### 5. Alias\n",
    "\n",
    "- A programmer can establish an **alias** by assigning a second identifier to an existing object.\n",
    "\n",
    "**Example :** Identifier temperature and original are aliases for the same object -"
   ]
  },
  {
   "cell_type": "code",
   "execution_count": 2,
   "metadata": {},
   "outputs": [],
   "source": [
    "temperature = 98.6\n",
    "original = temperature"
   ]
  },
  {
   "cell_type": "markdown",
   "metadata": {},
   "source": [
    "**Figure 1.2:** Identifiers temperature and original are aliases for the same object.\n",
    "\n",
    "|float|\n",
    "|---|\n",
    "|98.6|\n",
    "⬆️ ⬆️ original\n",
    "temperature\n",
    "\n",
    "- Once an alias has been established, either name can be used to access the underlying object.\n",
    "- If that object supports behaviors that affect its state, changes enacted through one alias will be apparent when using the other alias (because they refer to the same object).\n",
    "- However, if one of the names is reassigned to a new value using a subsequent assignment statement, that does not affect the aliased object, rather it breaks the alias."
   ]
  },
  {
   "cell_type": "code",
   "execution_count": 3,
   "metadata": {},
   "outputs": [
    {
     "name": "stdout",
     "output_type": "stream",
     "text": [
      "103.6 98.6\n"
     ]
    }
   ],
   "source": [
    "temperature = 98.6\n",
    "original = temperature\n",
    "temperature = temperature + 5.0\n",
    "print(temperature, original)"
   ]
  },
  {
   "cell_type": "markdown",
   "metadata": {},
   "source": [
    "- The execution of this command begins with the evaluation of the expression on the right-hand side of the = operator.\n",
    "- That expression, `temperature + 5.0`, is evaluated based on the existing binding of the name temperature, and so the result has value 103.6. That result is stored as a new floating-point instance, and only then is the name on the left-hand side of the assignment statement, temperature, (re)assigned to the result.\n",
    "- Of particular note, this last command had no effect on the value of the existing float instance that identifier original continues to reference.\n",
    "\n",
    "**Figure 1.3:** The temperature identifier has been assigned to a new value, while original continues to refer to the previously existing value.\n",
    "\n",
    "|float|\n",
    "|---|\n",
    "|103.6|\n",
    "⬆️ temperature\n",
    "\n",
    "|float|\n",
    "|---|\n",
    "|98.6|\n",
    "⬆️ original\n",
    "\n",
    "- Here, is the example of the deep copy and shallow copy"
   ]
  },
  {
   "cell_type": "code",
   "execution_count": 4,
   "metadata": {},
   "outputs": [
    {
     "name": "stdout",
     "output_type": "stream",
     "text": [
      "98.6 10\n"
     ]
    }
   ],
   "source": [
    "temperature = 98.6\n",
    "original = temperature\n",
    "original = 10\n",
    "print(temperature, original)"
   ]
  },
  {
   "cell_type": "code",
   "execution_count": 5,
   "metadata": {},
   "outputs": [
    {
     "name": "stdout",
     "output_type": "stream",
     "text": [
      "True\n",
      "{'a': 1} {'a': 1}\n"
     ]
    }
   ],
   "source": [
    "d1 = {'a':1, 'b':2}\n",
    "d2 = d1\n",
    "print(id(d1)==id(d2))\n",
    "del d2['b']     # del d1['b']\n",
    "print(d1, d2)"
   ]
  },
  {
   "cell_type": "markdown",
   "metadata": {},
   "source": [
    "- Here, original and d2 both second alias refers to same object which assigned but `original` assigned to new object and d2 is still refers to same object so any changes in d2 reflects changes in both (d1 and d2).\n",
    "\n",
    "## 1.2.2 Creating and Using Objects\n",
    "\n",
    "### 1. Instantiation\n",
    "\n",
    "- The process of creating a new instance of a class is known as **instantiation**.\n",
    "- In general, the syntax for instantiating an object is to invoke the **constructor** of a class.\n",
    "- For Example, If there were a class named `Widget`, we could create an instance of that class using a syntax such as `w = Widget()`, assuming that the constructor does not require any parameters. If the constructor does require parameters, we might use a syntax such as `Widget(a, b, c)` to construct a new instance.\n",
    "\n",
    "**Literals :**"
   ]
  },
  {
   "cell_type": "code",
   "execution_count": 6,
   "metadata": {},
   "outputs": [],
   "source": [
    "temperature = 98.6"
   ]
  },
  {
   "cell_type": "markdown",
   "metadata": {},
   "source": [
    "- Literal form for designating new instances.\n",
    "- For example, the command temperature = 98.6 results in the creation of a new instance of the **float** class.\n",
    "- The term 98.6 in that expression is a literal form.\n",
    "\n",
    "- From Programmer's perspective, yet another way to indirectly create a new instance of a class is to call a function that creates and returns such as instance.\n",
    "- For example, Python has a built-in function named sorted() that takes a sequence of comparable elements as a parameter and returns a new instance of the **list** class containing those elements in sorted order.\n",
    "\n",
    "### 2. Calling Method\n",
    "\n",
    "- Python supports traditional functions that are invoked with a syntax such as sorted(data), in which case data is a parameter sent to the function.\n",
    "- Python's classes may also define one or more **methods** (also known as **member functions**), which are invoked on a specific instance of a class using dot (\".\") operator.\n",
    "- For example, Python's list class has a method named sort that can be invoked with a syntax such as data.sort(). This particular method rearranges the content of the list so that they are sorted."
   ]
  },
  {
   "cell_type": "code",
   "execution_count": 8,
   "metadata": {},
   "outputs": [],
   "source": [
    "data = list()\n",
    "data.sort()"
   ]
  },
  {
   "cell_type": "markdown",
   "metadata": {},
   "source": [
    "- The expression to the left of the dot identifies the object upon which the method is invoked.\n",
    "- Often, this will be an identifier (e.g. data), but we can use the dot operator to invoke a method upon the immediate result of some other operation.\n",
    "- For example, if response identifies a string instance -"
   ]
  },
  {
   "cell_type": "code",
   "execution_count": 9,
   "metadata": {},
   "outputs": [
    {
     "data": {
      "text/plain": [
       "True"
      ]
     },
     "execution_count": 9,
     "metadata": {},
     "output_type": "execute_result"
    }
   ],
   "source": [
    "response = \"Younger Brother\"\n",
    "response.lower().startswith('y')"
   ]
  },
  {
   "cell_type": "markdown",
   "metadata": {},
   "source": [
    "- The syntax response.lower().startswith('y') first evaluates the method call, response.lower(), which itself returns a new string instance, and then the startswith('y') method is called on that intermediate string.\n",
    "\n",
    "- When using a method of a class, it is important to understand its behavior.\n",
    "\n",
    "### 3. Accessor\n",
    "\n",
    "- Some methods return information about the state of an object, but do not change that state. These are known as **accessors**.\n",
    "\n",
    "### 4. Mutators / Update Methods\n",
    "\n",
    "- Other methods, such as the sort method of the list class, do change the state of an object. these methods are known as **mutators** or **update method**.\n",
    "\n",
    "## 1.2.3 Python's Built-In Classes\n",
    "\n",
    "### Immutable\n",
    "\n",
    "- A class is **immutable** if each object of that class has a fixed value upon instantiation that cannot subsequently be changed.\n",
    "- For example - The float class is immutable.\n",
    "- Once an instance has been created, its value cannot be changed (although an identifier referencing that object can be reassigned to a different value).\n",
    "\n",
    "**Table 1.2:** Commonly used built-in classes for Python\n",
    "\n",
    "|Class|Description|Immutable?|\n",
    "|---|---|---|\n",
    "|**bool**|Boolean value|✔️|\n",
    "|**int**|integer (arbitrary magnitude)|✔️|\n",
    "|**float**|floating-point number|✔️|\n",
    "|**list**|mutable sequence of objects||\n",
    "|**tuple**|immutable sequence of objects|✔️|\n",
    "|**str**|character string|✔️|\n",
    "|**set**|unordered set of distinct objects||\n",
    "|**frozenset**|immutable from of set class|✔️|\n",
    "|**dict**|associative mapping (aka dictionary||\n",
    "\n",
    "- Literal forms (such as 98.6) exist for most of the built-in classes, and all of the classes support a traditional constructor from that creates instances that are based upon one or more existing values.\n",
    "\n",
    "### 1. bool Class\n",
    "\n",
    "- The **bool** class is used to manipulate logical (Boolean) values, and the only two instances of that class are expressed as the literals **True** and **False**.\n",
    "- The default constructor, `bool()`, return False, but there is no reason to use that syntax rather than more direct literal form."
   ]
  },
  {
   "cell_type": "code",
   "execution_count": 10,
   "metadata": {},
   "outputs": [
    {
     "name": "stdout",
     "output_type": "stream",
     "text": [
      "False\n"
     ]
    }
   ],
   "source": [
    "flag = bool()\n",
    "print(flag)"
   ]
  },
  {
   "cell_type": "markdown",
   "metadata": {},
   "source": [
    "- Python allows the creation of a Boolean value from a non boolean type using the syntax `bool(foo)` for value foo."
   ]
  },
  {
   "cell_type": "code",
   "execution_count": 1,
   "metadata": {},
   "outputs": [
    {
     "name": "stdout",
     "output_type": "stream",
     "text": [
      "True\n"
     ]
    }
   ],
   "source": [
    "foo = 12      # non-zero value\n",
    "print(bool(foo))"
   ]
  },
  {
   "cell_type": "markdown",
   "metadata": {},
   "source": [
    "**The interpretation depends on the type of the parameter :**\n",
    "\n",
    "- Number evaluate to False if zero, and True if nonzero."
   ]
  },
  {
   "cell_type": "code",
   "execution_count": 3,
   "metadata": {},
   "outputs": [
    {
     "name": "stdout",
     "output_type": "stream",
     "text": [
      "False\n",
      "True\n"
     ]
    }
   ],
   "source": [
    "non_zero = 0     # zero\n",
    "print(bool(non_zero))\n",
    "\n",
    "num = 23      # Number\n",
    "print(bool(num))"
   ]
  },
  {
   "cell_type": "markdown",
   "metadata": {},
   "source": [
    "- Sequences and other container types, such as strings and lists, evaluate to False if empty and True if nonempty."
   ]
  },
  {
   "cell_type": "code",
   "execution_count": 4,
   "metadata": {},
   "outputs": [
    {
     "name": "stdout",
     "output_type": "stream",
     "text": [
      "False\n",
      "True\n"
     ]
    }
   ],
   "source": [
    "sequenceBool1 = bool(list())       # Empty list sequence datatype\n",
    "print(sequenceBool1)\n",
    "\n",
    "sequenceBool2 = bool('Hello World!')    # Empty string sequence\n",
    "print(sequenceBool2)"
   ]
  },
  {
   "cell_type": "markdown",
   "metadata": {},
   "source": [
    "#### Application\n",
    "\n",
    "- An important application of this interpretation is the use of a non boolean value as a condition in a control structure.\n",
    "- **Example :**"
   ]
  },
  {
   "cell_type": "code",
   "execution_count": 5,
   "metadata": {},
   "outputs": [
    {
     "name": "stdout",
     "output_type": "stream",
     "text": [
      "1\n"
     ]
    }
   ],
   "source": [
    "done = False\n",
    "while not done:\n",
    "    print(\"1\")\n",
    "    done = True"
   ]
  },
  {
   "cell_type": "markdown",
   "metadata": {},
   "source": [
    "### 2. int Class\n",
    "\n",
    "- The `int` and `float` classes are the primary numeric types in Python.\n",
    "- The `int` class is designed to represent integer values with arbitrary magnitude.\n",
    "- Unlike Java and C++, which different precisions (i.e. int, short, long), Python automatically chooses the internal representation for an integer based upon the magnitude of its value.\n",
    "- Typical literals for integers include 0, 137 and -23.\n",
    "- In some contexts, it is convenient to express an integer value using binary, octal and hexadecimal\n",
    "  - That can be done by using a prefix of the number 0 and then a character to describe the base.\n",
    "  - **Example :** such as literals are -\n",
    "  - `0b10111` -> binary\n",
    "  - `0o52` -> octal\n",
    "  - `0x7f` -> hexadecimal\n",
    "- The integer constructor, `int()`, returns value 0 by default.\n",
    "- But this constructor can be used to construct an integer value based upon an existing value of another type.\n",
    "  - **Example :**\n",
    "  - if `f` represents a floating-point value, the syntax `int(f)` produces the truncated value of `f`."
   ]
  },
  {
   "cell_type": "code",
   "execution_count": 6,
   "metadata": {},
   "outputs": [
    {
     "name": "stdout",
     "output_type": "stream",
     "text": [
      "3 3 -3\n"
     ]
    }
   ],
   "source": [
    "var1 = int(3.14)    # produces value 3\n",
    "var2 = int(3.99)    # produces value 3\n",
    "var3 = int(-3.9)    # produces value -3\n",
    "\n",
    "print(var1, var2, var3)"
   ]
  },
  {
   "cell_type": "markdown",
   "metadata": {},
   "source": [
    "- The constructor can also be used to parse a string that is presumed to represent an integer value (such as one entered by a user).\n",
    "- **Example :**\n",
    "- It 's' represents a string then `int(s)` produces the integral value that string represents."
   ]
  },
  {
   "cell_type": "code",
   "execution_count": 7,
   "metadata": {},
   "outputs": [
    {
     "name": "stdout",
     "output_type": "stream",
     "text": [
      "137\n"
     ]
    }
   ],
   "source": [
    "var = int('137')\n",
    "print(var)"
   ]
  },
  {
   "cell_type": "markdown",
   "metadata": {},
   "source": [
    "- If an invalid string is given as a parameter as in `int('Hello')`, a ValueError is raised.\n",
    "- By default string must use base 10.\n",
    "- If conversion from a different base is desired, that base can be indicated as a second, optional, parameter.\n",
    "- **Example :**"
   ]
  },
  {
   "cell_type": "code",
   "execution_count": 9,
   "metadata": {},
   "outputs": [
    {
     "name": "stdout",
     "output_type": "stream",
     "text": [
      "127\n"
     ]
    }
   ],
   "source": [
    "v = int('7f', 16)       # evaluates \"7f\" as hexadecimal to the integer 127\n",
    "\n",
    "print(v)"
   ]
  },
  {
   "cell_type": "code",
   "execution_count": null,
   "metadata": {},
   "outputs": [],
   "source": []
  },
  {
   "cell_type": "markdown",
   "metadata": {},
   "source": [
    "### 3. float Class\n",
    "\n",
    "- The `float` class is the floating-point type in Python, using a fixed-precision representation.\n",
    "- Its precision is more akin to  a double in Java or C++, rather than those language float type.\n",
    "- Floating-point equivalent of an integral number can be expressed as 2.0 or 2. , the trailing zero is optional.\n",
    "- One other from of literal for floating-point values uses scientific notation.\n",
    "- **Example :** literal 6.022e23 or 6.022 x 10^23\n",
    "- The constructor form of `float()` has default return 0.0"
   ]
  },
  {
   "cell_type": "code",
   "execution_count": 10,
   "metadata": {},
   "outputs": [
    {
     "name": "stdout",
     "output_type": "stream",
     "text": [
      "0.0\n"
     ]
    }
   ],
   "source": [
    "fl = float()\n",
    "print(fl)"
   ]
  },
  {
   "cell_type": "markdown",
   "metadata": {},
   "source": [
    "- When given a parameter, the constructor attempts to return the equivalent floating-point value.\n",
    "- **Example :** `float(2)` returns value `2.0`"
   ]
  },
  {
   "cell_type": "code",
   "execution_count": 11,
   "metadata": {},
   "outputs": [
    {
     "name": "stdout",
     "output_type": "stream",
     "text": [
      "2.0\n"
     ]
    }
   ],
   "source": [
    "f2 = float(2)\n",
    "print(f2)"
   ]
  },
  {
   "cell_type": "markdown",
   "metadata": {},
   "source": [
    "- If the parameter to the constructor is a string, as with `float(3.14)` gives value 3.14\n",
    "- float('hello'), It attempts to parse that string as a floating-point value, raising a ValueError as an exception."
   ]
  },
  {
   "cell_type": "markdown",
   "metadata": {},
   "source": [
    "## Sequence Types: The list, tuple, and str Classes\n",
    "\n",
    "- The list, tuple and str classes are sequence type in Python, representing a collection of values in which the order is significant.\n",
    "\n",
    "### 4. list Class\n",
    "\n",
    "- A list instance stores a sequence of objects.\n",
    "- A list is a referential structure, as it technically stores a sequence of references to its elements.\n",
    "- Elements of a list many be arbitrary objects (including the None object).\n",
    "- list are array-based sequences and are zero-indexed, thus length of list n has elements indexed from 0 to (n-1) inclusive.\n",
    "- Python uses the character [] as delimiters for a list literal, with [] itself being an empty list.\n",
    "- **Example :**"
   ]
  },
  {
   "cell_type": "code",
   "execution_count": 12,
   "metadata": {},
   "outputs": [
    {
     "name": "stdout",
     "output_type": "stream",
     "text": [
      "['red', 'green', 'blue']\n"
     ]
    }
   ],
   "source": [
    "v2 = ['red', 'green', 'blue']   # is a list containing three string instances.\n",
    "print(v2)"
   ]
  },
  {
   "cell_type": "markdown",
   "metadata": {},
   "source": [
    "- The contents of a list literal need not be expressed as literals.\n",
    "- If identifiers a and b have been established, then syntax [a, b] is legitimate.\n",
    "- The list constructor produces an empty list by default `list()`\n",
    "- However, the constructor will accept any parameter that is of an iterable type.\n",
    "  - **Example :** Standard-Iterable type (string, list, tuple, set, dictionaries)\n",
    "  - `list('hello')` produces a list of individual characters ['h', 'r', 'l', 'l', 'o'] because an existing list is itself iterable\n",
    "  - The syntax - `backup = list(data)` can be used to construct a new list instance referencing the same contents as the original.\n",
    "\n",
    "|addresses :|.|.|.|.|.|.|.|.|.|.|.|\n",
    "|---|---|---|---|---|---|---|---|---|---|---|---|\n",
    "|primes (objects):|2|3|5|7|11|13|17|19|23|29|31|"
   ]
  },
  {
   "cell_type": "markdown",
   "metadata": {},
   "source": [
    "### 5. tuple Class\n",
    "\n",
    "- The tuple classes provides an immutable version of a sequence. amd therefore its instances have an internal representation that may be more streamlined than that of a list.\n",
    "- parenthesis `()` delimit a tuple, with `()` being an empty tuple.\n",
    "- There is one important subtlety -\n",
    "  - To express a tuple of length one as a literal, a comma must be placed after the element, but within the parenthesis.\n",
    "    - **Example :** `(17, )` is a one-element tuple is that without trailing comma, the expression (17) is viewed as a simple parenthesized numeric expression.\n",
    "\n",
    "### 6. str Class\n",
    "\n",
    "- Python's set class represents the mathematical notation of a set, namely a collection. of elements, without duplicates, and without an inherent order to these elements.\n",
    "- The major advantage of using a set, as opposed to a list, is that, it has a highly optimized method for checking whether a specific element is contained in the set.\n",
    "- This is based on a data structure known as a hash table.\n",
    "- However, There are two important restrictions due to the algorithmic underpinnings.\n",
    "  1. The set does\n",
    "  2. \n",
    "\n",
    "### 7. The set and frozenset Classes\n",
    "\n",
    "- G\n",
    "\n",
    "### 8. dict Class\n",
    "\n",
    "- H"
   ]
  },
  {
   "cell_type": "code",
   "execution_count": null,
   "metadata": {},
   "outputs": [],
   "source": []
  }
 ],
 "metadata": {
  "kernelspec": {
   "display_name": "Python 3",
   "language": "python",
   "name": "python3"
  },
  "language_info": {
   "codemirror_mode": {
    "name": "ipython",
    "version": 3
   },
   "file_extension": ".py",
   "mimetype": "text/x-python",
   "name": "python",
   "nbconvert_exporter": "python",
   "pygments_lexer": "ipython3",
   "version": "3.11.0"
  },
  "orig_nbformat": 4,
  "vscode": {
   "interpreter": {
    "hash": "82d9d5659f3d8ab8aef5b21628bea81f8a54744897a35e9a0b744c3a326eab33"
   }
  }
 },
 "nbformat": 4,
 "nbformat_minor": 2
}
