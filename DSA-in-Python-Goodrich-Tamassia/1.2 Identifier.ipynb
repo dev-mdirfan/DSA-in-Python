{
 "cells": [
  {
   "cell_type": "code",
   "execution_count": 3,
   "metadata": {},
   "outputs": [
    {
     "name": "stdout",
     "output_type": "stream",
     "text": [
      "{'a': 1} {'a': 1}\n"
     ]
    }
   ],
   "source": [
    "d1 = {'a':1, 'b':2}\n",
    "d2 = d1\n",
    "del d2['b']             # or del d1['b']\n",
    "print(d1, d2)"
   ]
  },
  {
   "cell_type": "code",
   "execution_count": 2,
   "metadata": {},
   "outputs": [
    {
     "name": "stdout",
     "output_type": "stream",
     "text": [
      "103.6\n",
      "98.6\n"
     ]
    }
   ],
   "source": [
    "temperature = 98.6\n",
    "original = temperature\n",
    "temperature = temperature + 5.0\n",
    "print(temperature)\n",
    "print(original)"
   ]
  },
  {
   "cell_type": "code",
   "execution_count": 5,
   "metadata": {},
   "outputs": [
    {
     "data": {
      "text/plain": [
       "True"
      ]
     },
     "execution_count": 5,
     "metadata": {},
     "output_type": "execute_result"
    }
   ],
   "source": [
    "response = 'Younger Brother'\n",
    "response.lower().startswith('y')"
   ]
  },
  {
   "cell_type": "code",
   "execution_count": 7,
   "metadata": {},
   "outputs": [
    {
     "name": "stdout",
     "output_type": "stream",
     "text": [
      "0 0.0\n"
     ]
    }
   ],
   "source": [
    "i = int()\n",
    "f = float()\n",
    "print(i,f)"
   ]
  },
  {
   "cell_type": "code",
   "execution_count": 9,
   "metadata": {},
   "outputs": [
    {
     "ename": "ValueError",
     "evalue": "could not convert string to float: 'hello'",
     "output_type": "error",
     "traceback": [
      "\u001b[1;31m---------------------------------------------------------------------------\u001b[0m",
      "\u001b[1;31mValueError\u001b[0m                                Traceback (most recent call last)",
      "\u001b[1;32md:\\DS ✅\\#1 DS in Python- Michael T. Goodrich\\1.2 Identifier.ipynb Cell 5'\u001b[0m in \u001b[0;36m<cell line: 2>\u001b[1;34m()\u001b[0m\n\u001b[0;32m      <a href='vscode-notebook-cell:/d%3A/DS%20%E2%9C%85/%231%20DS%20in%20Python-%20Michael%20T.%20Goodrich/1.2%20Identifier.ipynb#ch0000004?line=0'>1</a>\u001b[0m foo \u001b[39m=\u001b[39m \u001b[39mfloat\u001b[39m(\u001b[39m'\u001b[39m\u001b[39m3.14\u001b[39m\u001b[39m'\u001b[39m)\n\u001b[1;32m----> <a href='vscode-notebook-cell:/d%3A/DS%20%E2%9C%85/%231%20DS%20in%20Python-%20Michael%20T.%20Goodrich/1.2%20Identifier.ipynb#ch0000004?line=1'>2</a>\u001b[0m foo1 \u001b[39m=\u001b[39m \u001b[39mfloat\u001b[39;49m(\u001b[39m'\u001b[39;49m\u001b[39mhello\u001b[39;49m\u001b[39m'\u001b[39;49m)\n\u001b[0;32m      <a href='vscode-notebook-cell:/d%3A/DS%20%E2%9C%85/%231%20DS%20in%20Python-%20Michael%20T.%20Goodrich/1.2%20Identifier.ipynb#ch0000004?line=2'>3</a>\u001b[0m \u001b[39mprint\u001b[39m(foo,foo1)\n",
      "\u001b[1;31mValueError\u001b[0m: could not convert string to float: 'hello'"
     ]
    }
   ],
   "source": [
    "foo = float('3.14')\n",
    "foo1 = float('hello')\n",
    "print(foo,foo1)"
   ]
  },
  {
   "cell_type": "code",
   "execution_count": 10,
   "metadata": {},
   "outputs": [
    {
     "name": "stdout",
     "output_type": "stream",
     "text": [
      "127\n"
     ]
    }
   ],
   "source": [
    "conv = int('7f', 16)\n",
    "print(conv)"
   ]
  },
  {
   "cell_type": "code",
   "execution_count": 11,
   "metadata": {},
   "outputs": [
    {
     "name": "stdout",
     "output_type": "stream",
     "text": [
      "20€\n"
     ]
    }
   ],
   "source": [
    "s = '20\\u20AC'\n",
    "print(s)"
   ]
  },
  {
   "cell_type": "code",
   "execution_count": 12,
   "metadata": {},
   "outputs": [
    {
     "ename": "TypeError",
     "evalue": "unhashable type: 'dict'",
     "output_type": "error",
     "traceback": [
      "\u001b[1;31m---------------------------------------------------------------------------\u001b[0m",
      "\u001b[1;31mTypeError\u001b[0m                                 Traceback (most recent call last)",
      "\u001b[1;32md:\\DS ✅\\#1 DS in Python- Michael T. Goodrich\\1.2 Identifier.ipynb Cell 8'\u001b[0m in \u001b[0;36m<cell line: 1>\u001b[1;34m()\u001b[0m\n\u001b[1;32m----> <a href='vscode-notebook-cell:/d%3A/DS%20%E2%9C%85/%231%20DS%20in%20Python-%20Michael%20T.%20Goodrich/1.2%20Identifier.ipynb#ch0000007?line=0'>1</a>\u001b[0m solo \u001b[39m=\u001b[39m {\u001b[39m1\u001b[39m, \u001b[39m2\u001b[39m, \u001b[39m3\u001b[39m, {\u001b[39m1\u001b[39m: \u001b[39m2\u001b[39m, \u001b[39m3\u001b[39m: \u001b[39m4\u001b[39m}}\n\u001b[0;32m      <a href='vscode-notebook-cell:/d%3A/DS%20%E2%9C%85/%231%20DS%20in%20Python-%20Michael%20T.%20Goodrich/1.2%20Identifier.ipynb#ch0000007?line=1'>2</a>\u001b[0m \u001b[39mprint\u001b[39m(solo)\n",
      "\u001b[1;31mTypeError\u001b[0m: unhashable type: 'dict'"
     ]
    }
   ],
   "source": [
    "solo = {1, 2, 3, {1: 2, 3: 4}}\n",
    "print(solo)"
   ]
  },
  {
   "cell_type": "code",
   "execution_count": 13,
   "metadata": {},
   "outputs": [
    {
     "ename": "TypeError",
     "evalue": "unhashable type: 'list'",
     "output_type": "error",
     "traceback": [
      "\u001b[1;31m---------------------------------------------------------------------------\u001b[0m",
      "\u001b[1;31mTypeError\u001b[0m                                 Traceback (most recent call last)",
      "\u001b[1;32md:\\DS ✅\\#1 DS in Python- Michael T. Goodrich\\1.2 Identifier.ipynb Cell 9'\u001b[0m in \u001b[0;36m<cell line: 1>\u001b[1;34m()\u001b[0m\n\u001b[1;32m----> <a href='vscode-notebook-cell:/d%3A/DS%20%E2%9C%85/%231%20DS%20in%20Python-%20Michael%20T.%20Goodrich/1.2%20Identifier.ipynb#ch0000008?line=0'>1</a>\u001b[0m solo2 \u001b[39m=\u001b[39m {\u001b[39m1\u001b[39m, \u001b[39m2\u001b[39m, [\u001b[39m1\u001b[39m,\u001b[39m2\u001b[39m,\u001b[39m3\u001b[39m]}\n\u001b[0;32m      <a href='vscode-notebook-cell:/d%3A/DS%20%E2%9C%85/%231%20DS%20in%20Python-%20Michael%20T.%20Goodrich/1.2%20Identifier.ipynb#ch0000008?line=1'>2</a>\u001b[0m \u001b[39mprint\u001b[39m(solo2)\n",
      "\u001b[1;31mTypeError\u001b[0m: unhashable type: 'list'"
     ]
    }
   ],
   "source": [
    "solo2 = {1, 2, [1,2,3]}\n",
    "print(solo2)"
   ]
  },
  {
   "cell_type": "code",
   "execution_count": 18,
   "metadata": {},
   "outputs": [
    {
     "name": "stdout",
     "output_type": "stream",
     "text": [
      "frozenset({1, 2, 3, 4}) <class 'frozenset'>\n"
     ]
    }
   ],
   "source": [
    "st = {1,2,3,4}\n",
    "frozen = frozenset(st)\n",
    "print(frozen,type(frozen))"
   ]
  },
  {
   "cell_type": "code",
   "execution_count": 16,
   "metadata": {},
   "outputs": [
    {
     "name": "stdout",
     "output_type": "stream",
     "text": [
      "{1, frozenset({1, 2, 3, 4}), 23}\n"
     ]
    }
   ],
   "source": [
    "se = {1,23, frozen}\n",
    "print(se)"
   ]
  },
  {
   "cell_type": "code",
   "execution_count": 19,
   "metadata": {},
   "outputs": [
    {
     "name": "stdout",
     "output_type": "stream",
     "text": [
      "{'NewYork': 'America', 'Delhi': 'India'}\n"
     ]
    }
   ],
   "source": [
    "pairs = [('NewYork','America'),('Delhi','India')]\n",
    "d = dict(pairs)\n",
    "print(d)"
   ]
  }
 ],
 "metadata": {
  "kernelspec": {
   "display_name": "Python 3.10.8 64-bit",
   "language": "python",
   "name": "python3"
  },
  "language_info": {
   "codemirror_mode": {
    "name": "ipython",
    "version": 3
   },
   "file_extension": ".py",
   "mimetype": "text/x-python",
   "name": "python",
   "nbconvert_exporter": "python",
   "pygments_lexer": "ipython3",
   "version": "3.10.8"
  },
  "orig_nbformat": 4,
  "vscode": {
   "interpreter": {
    "hash": "a1776a15d8f7067c06d42333c361ec625d8d9b322e2d0804f77800a943a7a072"
   }
  }
 },
 "nbformat": 4,
 "nbformat_minor": 2
}
