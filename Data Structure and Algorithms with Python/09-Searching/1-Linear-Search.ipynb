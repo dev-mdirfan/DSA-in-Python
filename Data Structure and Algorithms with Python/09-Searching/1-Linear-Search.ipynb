{
 "cells": [
  {
   "cell_type": "markdown",
   "metadata": {},
   "source": [
    "# Linear Search\n",
    "\n",
    "- he searching operation is to find out a given item from the stored data.\n",
    "- If the searched item is available in the stored list then it returns the index position where it is located, or else it returns that the item is not found.\n",
    "- Linear search method is the simplest approach to search for an item in a list, in which we look for items one by one in the whole list.\n",
    "- **Example -**\n",
    "\n",
    "\n",
    "|60|1|88|10|11|100|\n",
    "|---|---|---|---|---|---|\n",
    "|[0]|[1]|[2]|[3]|[4]|[5]|\n",
    "\n",
    "- Linear Search technique traverses the list of elements by using the index to move from the beginning of the list to the end.\n",
    "-  Each element is examined, and if it does not match the search item, the next item is examined.\n",
    "- By hopping from one item to the next, the list is traversed sequentially.\n",
    "\n",
    "- We use list items with integer values. however, a list item can hold any other data type as well."
   ]
  },
  {
   "cell_type": "markdown",
   "metadata": {},
   "source": [
    "## Unordered linear search\n",
    "\n",
    "- The linear search approach depends on how the list items are stored —\n",
    "    - whether they are sorted in order\n",
    "    - or stored without any order.\n",
    "\n",
    "|60|1|88|10|11|100|\n",
    "|---|---|---|---|---|---|\n",
    "|[0]|[1]|[2]|[3]|[4]|[5]|\n",
    "\n",
    "\n",
    "- To perform a search operation on such a list, one proceeds from the very first item and compares that with the search item. If the search item is not matched then the next element in the list is examined. This continues till we reach the last element in the list or until a match is found.\n",
    "- **Implementation -**"
   ]
  },
  {
   "cell_type": "code",
   "execution_count": 5,
   "metadata": {},
   "outputs": [],
   "source": [
    "# Unordered Linear Search\n",
    "def search(unordered_list, term):\n",
    "    size = len(unordered_list)\n",
    "    for i in range(size):\n",
    "        if term == unordered_list[i]:\n",
    "            return i\n",
    "    return None"
   ]
  },
  {
   "cell_type": "markdown",
   "metadata": {},
   "source": [
    "- On every pass of the for loop, we test if the search term is equal to the indexed item.\n",
    "    - If this is true, then there is a match, and there is no need to proceed further with the search. We return the index position where the searched item is found in the list.\n",
    "    - If the loops run to the end of the list with no match found, then None is returned to signify that there is no such item in the list.\n",
    "\n",
    "#### Conclusion :\n",
    "\n",
    "- In an unordered list of items, there is no guiding rule for how elements are inserted. Thus, it impacts the way the search is performed. As such, we must visit all the items in the list one after the other.\n",
    "- The unordered linear search has a worst-case running time of `O(n)` when the search term is located at the last position of the list.\n"
   ]
  },
  {
   "cell_type": "markdown",
   "metadata": {},
   "source": [
    "## Ordered Linear Search\n",
    "\n",
    "- Another case in a linear search is when the list elements have been sorted, then our search algorithm can be improved.\n",
    "- Assuming the elements have been sorted in ascending order, the search operation can take advantage of the ordered nature of the list to make the search more efficient.\n",
    "- The algorithm is reduced to the following steps:\n",
    "    1. Move through the list sequentially\n",
    "    2. If a search item is greater than the object or item currently under inspection in the loop, then quit and return `None`\n",
    "\n",
    "- **Example -** Searching for 5 (Search Term) in the given list\n",
    "\n",
    "|2|3|4|6|7|\n",
    "|---|---|---|---|---|\n",
    "|[0]|[1]|[2]|[3]|[4]|\n"
   ]
  },
  {
   "cell_type": "code",
   "execution_count": 6,
   "metadata": {},
   "outputs": [],
   "source": [
    "# Ordered Linear Search\n",
    "def search2(ordered_list, term):\n",
    "    size = len(ordered_list)\n",
    "    for i in range(size):\n",
    "        if term == ordered_list[i]:\n",
    "            return i\n",
    "        elif ordered_list[i] > term:\n",
    "            return None                 # or you can use break\n",
    "    return None"
   ]
  },
  {
   "cell_type": "markdown",
   "metadata": {},
   "source": [
    "- The worst-case time complexity of an ordered linear search is O(n).\n",
    "\n",
    "##### Conclusion :\n",
    "- In general, this kind of search is considered inefficient especially when dealing with large datasets."
   ]
  },
  {
   "cell_type": "markdown",
   "metadata": {},
   "source": [
    "#### Using `in` operator :\n",
    "\n",
    "- Time Complexity :"
   ]
  },
  {
   "cell_type": "code",
   "execution_count": 4,
   "metadata": {},
   "outputs": [
    {
     "name": "stdout",
     "output_type": "stream",
     "text": [
      "Element 10 Found at 4\n"
     ]
    }
   ],
   "source": [
    "# Using in operator in python\n",
    "l = [60,1,88,10,11,100]\n",
    "n = int(input())\n",
    "if n in l:\n",
    "    print(\"Element\",n,\"Found at\",l.index(n)+1)\n",
    "else:\n",
    "    print(\"Element\",n,\"Not Found\")"
   ]
  }
 ],
 "metadata": {
  "kernelspec": {
   "display_name": "Python 3.10.6 64-bit",
   "language": "python",
   "name": "python3"
  },
  "language_info": {
   "codemirror_mode": {
    "name": "ipython",
    "version": 3
   },
   "file_extension": ".py",
   "mimetype": "text/x-python",
   "name": "python",
   "nbconvert_exporter": "python",
   "pygments_lexer": "ipython3",
   "version": "3.10.6"
  },
  "orig_nbformat": 4,
  "vscode": {
   "interpreter": {
    "hash": "26de051ba29f2982a8de78e945f0abaf191376122a1563185a90213a26c5da77"
   }
  }
 },
 "nbformat": 4,
 "nbformat_minor": 2
}
