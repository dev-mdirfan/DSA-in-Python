{
 "cells": [
  {
   "cell_type": "markdown",
   "metadata": {},
   "source": [
    "# Binary Search\n",
    "\n",
    "- It y used to find elements within a **sorted** array or list.\n",
    "- It is a very fast and efficient algorithm to search an element, and the only drawback is that we need a sorted list.\n",
    "- The worst-case running time complexity of a binary search algorithm is `O(log n)`.\n",
    "-  It starts searching the item by dividing the given list by half. If the search item is smaller than the middle value then it will look for the searched item only in the first half of the list, and if the search item is greater than the middle value it will only look at the second half of the list. We repeat the same process every time until we find the search item or we have checked the whole list.\n",
    "- **Example 1-** Suppose we have a book of 1,000 pages, and we want to reach the page number 250. We know that every book has its pages numbered sequentially from 1 upwards. So, according to the binary search analogy, we first check the search item 250 which is less than the 500 (which is the midpoint of the book). Thus, we search the required page only in the first half of the book. We again see the midpoint of the first half of the book, that is, using page 500 as a reference we find the midpoint, that is, 250. That brings us closer to finding the 250th page. And then we find the required page in the book. \n",
    "- **Example 2-** We want to search for an item 43 from a list of 12 items -\n",
    "\n",
    "|1|4|11|25|32|37|40|43|47|49|53|55|\n",
    "|--|--|--|--|--|--|--|--|--|--|--|--|\n",
    "\n",
    "- The implementation of the binary search algorithm on an ordered list of items:"
   ]
  },
  {
   "cell_type": "markdown",
   "metadata": {},
   "source": [
    "#### Iterative approach :"
   ]
  },
  {
   "cell_type": "code",
   "execution_count": 1,
   "metadata": {},
   "outputs": [],
   "source": [
    "# Iterative approach of binary search\n",
    "def binary_search(ordered_list, term):\n",
    "    size = len(ordered_list)-1\n",
    "    start = 0\n",
    "    end = size\n",
    "    while start <= end:\n",
    "        mid = (start + end)//2\n",
    "        if ordered_list[mid] == term:\n",
    "            return mid\n",
    "        if term > ordered_list[mid]:\n",
    "            start = mid + 1\n",
    "        else:\n",
    "            end = mid-1\n",
    "    if start > end:\n",
    "        return None"
   ]
  },
  {
   "cell_type": "markdown",
   "metadata": {},
   "source": [
    "- **Example -** Search element is 10\n",
    "\n",
    "\n",
    "|10|30|100|120|500|\n",
    "|--|--|--|--|--|\n",
    "|[0]|[1]|[2]|[3]|[4]|\n"
   ]
  },
  {
   "cell_type": "markdown",
   "metadata": {},
   "source": [
    "#### Recursive Approach :"
   ]
  },
  {
   "cell_type": "code",
   "execution_count": 2,
   "metadata": {},
   "outputs": [
    {
     "name": "stdout",
     "output_type": "stream",
     "text": [
      "0\n"
     ]
    }
   ],
   "source": [
    "def binary_search(ordered_list, start, end,term):\n",
    "    if end < start:\n",
    "        return None\n",
    "    else:\n",
    "        mid = start + ((end - start) // 2)\n",
    "    \n",
    "    if ordered_list[mid] > term:\n",
    "        return binary_search(ordered_list, start, mid-1,term)\n",
    "    \n",
    "    elif ordered_list[mid] < term:\n",
    "        return binary_search(ordered_list, mid+1, end, term)\n",
    "    else:\n",
    "        return mid\n",
    "\n",
    "store = [2, 4, 5, 12, 43, 54, 60, 77]\n",
    "print(binary_search(store, 0, 7, 2))"
   ]
  },
  {
   "cell_type": "markdown",
   "metadata": {},
   "source": [
    "##### Conclusion :\n",
    "\n",
    "- Here, the only distinction between the recursive binary search and the iterative binary search is the **function definition** and also the way in which **mid** is calculated.\n",
    "- The calculation for mid after the ((last_element_index - first_element_index) // 2) operation must add its result to first_element_index. That way, we define the portion of the list to attempt the search.\n",
    "- The binary search algorithm has the worst-case time complexity of O(log<sub>2</sub> n)."
   ]
  }
 ],
 "metadata": {
  "kernelspec": {
   "display_name": "Python 3.10.6 64-bit",
   "language": "python",
   "name": "python3"
  },
  "language_info": {
   "codemirror_mode": {
    "name": "ipython",
    "version": 3
   },
   "file_extension": ".py",
   "mimetype": "text/x-python",
   "name": "python",
   "nbconvert_exporter": "python",
   "pygments_lexer": "ipython3",
   "version": "3.10.6"
  },
  "orig_nbformat": 4,
  "vscode": {
   "interpreter": {
    "hash": "26de051ba29f2982a8de78e945f0abaf191376122a1563185a90213a26c5da77"
   }
  }
 },
 "nbformat": 4,
 "nbformat_minor": 2
}
