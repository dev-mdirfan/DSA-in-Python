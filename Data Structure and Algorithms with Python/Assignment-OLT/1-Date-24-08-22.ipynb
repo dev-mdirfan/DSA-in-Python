{
 "cells": [
  {
   "cell_type": "markdown",
   "metadata": {},
   "source": [
    "# Assignment Questions"
   ]
  },
  {
   "cell_type": "markdown",
   "metadata": {},
   "source": [
    "## 1. Method overriding is an example of -\n",
    "\n",
    "1. polymorphism\n",
    "\n",
    "2. inheritance\n",
    "\n",
    "3. Encapsulation\n",
    "\n",
    "4. None of the above\n",
    "\n",
    "#### Ans- 1. polymorphism"
   ]
  },
  {
   "cell_type": "markdown",
   "metadata": {},
   "source": [
    "## 2. Python supports dynamic typing.\n",
    "\n",
    "1. True\n",
    "\n",
    "2. False\n",
    "\n",
    "#### Ans- 1. True"
   ]
  },
  {
   "cell_type": "markdown",
   "metadata": {},
   "source": [
    "## 3. What will be the data type of the following variable?\n",
    "A = ‘101’\n",
    "\n",
    "1. Integer\n",
    "\n",
    "2. String\n",
    "\n",
    "3. Float\n",
    "\n",
    "4. None of the above\n",
    "\n",
    "#### Ans- 2. String"
   ]
  },
  {
   "cell_type": "code",
   "execution_count": 3,
   "metadata": {},
   "outputs": [
    {
     "ename": "NameError",
     "evalue": "name 'mango' is not defined",
     "output_type": "error",
     "traceback": [
      "\u001b[1;31m---------------------------------------------------------------------------\u001b[0m",
      "\u001b[1;31mNameError\u001b[0m                                 Traceback (most recent call last)",
      "\u001b[1;32md:\\Python🔒\\Data Structure and Algorithms with Python\\Assignment-OLT\\1-Date-24-08-22.ipynb Cell 5\u001b[0m in \u001b[0;36m<cell line: 3>\u001b[1;34m()\u001b[0m\n\u001b[0;32m      <a href='vscode-notebook-cell:/d%3A/Python%F0%9F%94%92/Data%20Structure%20and%20Algorithms%20with%20Python/Assignment-OLT/1-Date-24-08-22.ipynb#W0sZmlsZQ%3D%3D?line=0'>1</a>\u001b[0m \u001b[39m# What error occurs when you execute the following Python code snippet?\u001b[39;00m\n\u001b[1;32m----> <a href='vscode-notebook-cell:/d%3A/Python%F0%9F%94%92/Data%20Structure%20and%20Algorithms%20with%20Python/Assignment-OLT/1-Date-24-08-22.ipynb#W0sZmlsZQ%3D%3D?line=2'>3</a>\u001b[0m apple \u001b[39m=\u001b[39m mango\n",
      "\u001b[1;31mNameError\u001b[0m: name 'mango' is not defined"
     ]
    }
   ],
   "source": [
    "# 4. What error occurs when you execute the following Python code snippet?\n",
    "\n",
    "apple = mango\n",
    "# a) SyntaxError\n",
    "# b) NameError\n",
    "# c) ValueError\n",
    "# d) TypeError\n",
    "\n",
    "# Ans- b) NameError"
   ]
  },
  {
   "cell_type": "markdown",
   "metadata": {},
   "source": [
    "## 5. In order to store values in terms of key and value we use what core data type.\n",
    "1. list\n",
    "2. tuple\n",
    "3. class\n",
    "4. dictionary\n",
    "\n",
    "#### Ans- 4. Dictionary"
   ]
  },
  {
   "cell_type": "markdown",
   "metadata": {},
   "source": [
    "## 6. Given a function that does not return any value, What value is thrown by default when executed in shell.\n",
    "1. int\n",
    "2. bool\n",
    "3. void\n",
    "4. None\n",
    "\n",
    "#### Ans- 4. None"
   ]
  },
  {
   "cell_type": "markdown",
   "metadata": {},
   "source": [
    "## 7.  What is the return type of function id?\n",
    "1. int\n",
    "2. float\n",
    "3. bool\n",
    "4. dict\n",
    "\n",
    "#### Ans- 1. int"
   ]
  },
  {
   "cell_type": "markdown",
   "metadata": {},
   "source": [
    "## 8. Which of the following is a Python tuple?\n",
    "1. {1, 2, 3}\n",
    "2. {}\n",
    "3. [1, 2, 3]\n",
    "4. (1, 2, 3)\n",
    "\n",
    "#### Ans- 4. (1, 2, 3)"
   ]
  },
  {
   "cell_type": "markdown",
   "metadata": {},
   "source": [
    "## 9. method  overloading is an example of\n",
    "\n",
    "1. polymorphism\n",
    "\n",
    "2. inheritance\n",
    "\n",
    "3. Encapsulation\n",
    "\n",
    "4. None of the above\n",
    "\n",
    "#### Ans- 1. polymorphism"
   ]
  },
  {
   "cell_type": "markdown",
   "metadata": {},
   "source": [
    "## 10. operator  overloading is an example of\n",
    "\n",
    "1. polymorphism\n",
    "\n",
    "2. inheritance\n",
    "\n",
    "3. Encapsulation\n",
    "\n",
    "4. None of the above\n",
    "\n",
    "#### Ans- 1. polymorphism"
   ]
  },
  {
   "cell_type": "code",
   "execution_count": 4,
   "metadata": {},
   "outputs": [
    {
     "name": "stdout",
     "output_type": "stream",
     "text": [
      "[4, 3]\n"
     ]
    }
   ],
   "source": [
    "# 11. What will be the output of the following Python code?\n",
    "\n",
    "list1 = [1, 3]\n",
    "list2 = list1\n",
    "list1[0] = 4\n",
    "print(list2)\n",
    "# a) [1, 4]\n",
    "# b) [1, 3, 4]\n",
    "# c) [4, 3]\n",
    "# d) [1, 3]\n",
    "\n",
    "# Ans- c) [4,3]"
   ]
  },
  {
   "cell_type": "code",
   "execution_count": 5,
   "metadata": {},
   "outputs": [
    {
     "name": "stdout",
     "output_type": "stream",
     "text": [
      "abc\n"
     ]
    }
   ],
   "source": [
    "# 12. What will be the output of the following Python statement?\n",
    "\n",
    "print(\"a\"+\"bc\")\n",
    "# a) bc\n",
    "# b) abc\n",
    "# c) a\n",
    "# d) bca\n",
    "\n",
    "# Ans- b) abc"
   ]
  },
  {
   "cell_type": "code",
   "execution_count": 6,
   "metadata": {},
   "outputs": [
    {
     "data": {
      "text/plain": [
       "4"
      ]
     },
     "execution_count": 6,
     "metadata": {},
     "output_type": "execute_result"
    }
   ],
   "source": [
    "# 13. What will be the output of the following Python function?\n",
    "\n",
    "len([\"hello\",2, 4, 6])\n",
    "# a) Error\n",
    "# b) 6\n",
    "# c) 4\n",
    "# d) 3\n",
    "\n",
    "# Ans- c) 4"
   ]
  },
  {
   "cell_type": "markdown",
   "metadata": {},
   "source": [
    "## 14. Which of the following is the use of id() function in python?\n",
    "1. Every object doesn’t have a unique id\n",
    "2. Id returns the identity of the object\n",
    "3. All of the mentioned\n",
    "4. None of the mentioned\n",
    "\n",
    "#### Ans- 2."
   ]
  },
  {
   "cell_type": "markdown",
   "metadata": {},
   "source": [
    "## 15. Which of the following is the truncation division operator in Python?\n",
    "1. |\n",
    "2. //\n",
    "3. /\n",
    "4. %\n",
    "\n",
    "#### Ans- 2. //"
   ]
  },
  {
   "cell_type": "markdown",
   "metadata": {},
   "source": [
    "## 16. What is the order of precedence in python?\n",
    "1. Exponential, Parentheses, Multiplication, Division, Addition, Subtraction\n",
    "2. Exponential, Parentheses, Division, Multiplication, Addition, Subtraction\n",
    "3. Parentheses, Exponential, Multiplication, Division, Subtraction, Addition\n",
    "4. Parentheses, Exponential, Multiplication, Division, Addition, Subtraction\n",
    "\n",
    "#### Ans- 4. Parentheses, Exponential, Multiplication, Division, Addition, Subtraction"
   ]
  },
  {
   "cell_type": "code",
   "execution_count": 8,
   "metadata": {},
   "outputs": [
    {
     "name": "stdout",
     "output_type": "stream",
     "text": [
      "512\n",
      "64\n",
      "512\n"
     ]
    }
   ],
   "source": [
    "# 17. What are the values of the following Python expressions?\n",
    "\n",
    "print(2**(3**2))\n",
    "print((2**3)**2)\n",
    "print(2**3**2)\n",
    "# a) 512, 64, 512\n",
    "# b) 512, 512, 512\n",
    "# c) 64, 512, 64\n",
    "# d) 64, 64, 64\n",
    "\n",
    "# Ans- a) 512, 64, 512"
   ]
  },
  {
   "cell_type": "code",
   "execution_count": 9,
   "metadata": {},
   "outputs": [
    {
     "data": {
      "text/plain": [
       "4"
      ]
     },
     "execution_count": 9,
     "metadata": {},
     "output_type": "execute_result"
    }
   ],
   "source": [
    "# 18. What will be the output of the following Python code snippet if x=1?\n",
    "\n",
    "x = 1\n",
    "x<<2\n",
    "# a) 4\n",
    "# b) 2\n",
    "# c) 1\n",
    "# d) 8\n",
    "\n",
    "# Ans- a) 4"
   ]
  },
  {
   "cell_type": "markdown",
   "metadata": {},
   "source": [
    "## 19. Which of the following character is used to give single-line comments in Python?\n",
    "1. //\n",
    "2. `#`\n",
    "3. !\n",
    "4. /*\n",
    "\n",
    "#### Ans- 2. `#`"
   ]
  },
  {
   "cell_type": "markdown",
   "metadata": {},
   "source": [
    "## 20. Which keyword is used for function in Python language?\n",
    "1. Function\n",
    "2. def\n",
    "3. Fun\n",
    "4. Define\n",
    "\n",
    "#### Ans- 2. def"
   ]
  },
  {
   "cell_type": "markdown",
   "metadata": {},
   "source": [
    "## 21. Which of the following is used to define a block of code in Python language?\n",
    "1. Indentation\n",
    "2. Key\n",
    "3. Brackets\n",
    "4. All of the mentioned\n",
    "\n",
    "#### Ans- 1. Indentation"
   ]
  },
  {
   "cell_type": "code",
   "execution_count": 10,
   "metadata": {},
   "outputs": [
    {
     "data": {
      "text/plain": [
       "7"
      ]
     },
     "execution_count": 10,
     "metadata": {},
     "output_type": "execute_result"
    }
   ],
   "source": [
    "# 22. What will be the value of the following Python expression?\n",
    "\n",
    "4 + 3 % 5\n",
    "# a) 7\n",
    "# b) 2\n",
    "# c) 4\n",
    "# d) 1\n",
    "\n",
    "# Ans- a) 7"
   ]
  },
  {
   "cell_type": "markdown",
   "metadata": {},
   "source": [
    "## 23. Which of the following is the correct extension of the Python file?\n",
    "1. .python\n",
    "2. .pl\n",
    "3. .py\n",
    "4. .p\n",
    "\n",
    "#### Ans- 3. .py"
   ]
  },
  {
   "cell_type": "markdown",
   "metadata": {},
   "source": [
    "## 24. Which type of Programming does Python support?\n",
    "1. object-oriented programming\n",
    "2. structured programming\n",
    "3. functional programming\n",
    "4. all of the mentioned\n",
    "\n",
    "#### Ans- 4. All of the mentioned"
   ]
  },
  {
   "cell_type": "markdown",
   "metadata": {},
   "source": [
    "## 25. Who developed Python Programming Language?\n",
    "1. Wick van Rossum\n",
    "2. Rasmus Lerdorf\n",
    "3. Guido van Rossum\n",
    "4. Niene Stom\n",
    "\n",
    "#### Ans- 3. Guido Van Rossum"
   ]
  }
 ],
 "metadata": {
  "kernelspec": {
   "display_name": "Python 3.10.6 64-bit",
   "language": "python",
   "name": "python3"
  },
  "language_info": {
   "codemirror_mode": {
    "name": "ipython",
    "version": 3
   },
   "file_extension": ".py",
   "mimetype": "text/x-python",
   "name": "python",
   "nbconvert_exporter": "python",
   "pygments_lexer": "ipython3",
   "version": "3.10.6"
  },
  "orig_nbformat": 4,
  "vscode": {
   "interpreter": {
    "hash": "26de051ba29f2982a8de78e945f0abaf191376122a1563185a90213a26c5da77"
   }
  }
 },
 "nbformat": 4,
 "nbformat_minor": 2
}
