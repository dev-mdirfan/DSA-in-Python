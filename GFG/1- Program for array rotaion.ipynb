{
 "cells": [
  {
   "cell_type": "markdown",
   "metadata": {},
   "source": [
    "# 1. Array rotation by d elements\n",
    "Write a function rotate(arr, d, n) that rotates arr of size n by d elements.\n",
    "\n",
    "> 1 2 3 4 5 6 7\n",
    "\n",
    "Rotation by 2\n",
    "\n",
    "> 3 4 5 6 7 1 2\n",
    "\n",
    "### Method 1 : Slicing"
   ]
  },
  {
   "cell_type": "code",
   "execution_count": 18,
   "metadata": {},
   "outputs": [
    {
     "name": "stdout",
     "output_type": "stream",
     "text": [
      "value of d : 6\n",
      "[7, 1, 2, 3, 4, 5, 6]\n"
     ]
    }
   ],
   "source": [
    "import random\n",
    "def rotate(arr, d):\n",
    "    print(\"value of d :\",d)\n",
    "    return arr[d:]+arr[:d]\n",
    "\n",
    "arr = [1, 2, 3, 4, 5, 6, 7]\n",
    "d = random.randint(1,len(arr))\n",
    "ans = rotate(arr, d)\n",
    "print(ans)"
   ]
  },
  {
   "cell_type": "markdown",
   "metadata": {},
   "source": [
    "* Time Complexity : O(n)\n",
    "* Space Complexity : O(1)"
   ]
  },
  {
   "cell_type": "markdown",
   "metadata": {},
   "source": [
    "### Method 2 : Using temporary array "
   ]
  },
  {
   "cell_type": "code",
   "execution_count": 20,
   "metadata": {},
   "outputs": [
    {
     "name": "stdout",
     "output_type": "stream",
     "text": [
      "[5, 6, 7, 8, 9, 10, 1, 2, 3, 4]\n"
     ]
    }
   ],
   "source": [
    "arr = [1, 2, 3, 4, 5, 6, 7, 8, 9, 10]\n",
    "d = 4\n",
    "def tempRotate(arr, d):\n",
    "    temp = []\n",
    "    n = len(arr)\n",
    "    for i in range(d):\n",
    "        temp.append(arr[i])\n",
    "    for i in range(n-d):\n",
    "        arr[i] = arr[d+i]\n",
    "    for i in range(d):\n",
    "        arr[n-d+i] = temp[i]\n",
    "    print(arr)\n",
    "\n",
    "tempRotate(arr, d)"
   ]
  },
  {
   "cell_type": "markdown",
   "metadata": {},
   "source": [
    "**Time Complexity :** O(n)\n",
    "\n",
    "**Auxiliary space :** O(d)\n",
    "\n",
    "### Method 3 : Rotate one by one"
   ]
  },
  {
   "cell_type": "code",
   "execution_count": 22,
   "metadata": {},
   "outputs": [
    {
     "name": "stdout",
     "output_type": "stream",
     "text": [
      "[4, 5, 6, 7, 8, 1, 2, 3]\n"
     ]
    }
   ],
   "source": [
    "def leftRotateByOne(arr, d):\n",
    "    while d>0:\n",
    "        temp  = arr[0]\n",
    "        for i in range(len(arr)-1):\n",
    "            arr[i] = arr[i+1]\n",
    "        arr[-1] = temp\n",
    "        d-=1\n",
    "    return arr\n",
    "\n",
    "arr = [1, 2, 3, 4, 5, 6, 7, 8]\n",
    "d = 3\n",
    "print(leftRotateByOne(arr, d))"
   ]
  },
  {
   "cell_type": "markdown",
   "metadata": {},
   "source": [
    "**Time Complexity** : o(n*d)\n",
    "\n",
    "**Space Complexity** : "
   ]
  },
  {
   "cell_type": "markdown",
   "metadata": {},
   "source": [
    "### Method 4 : Using GCD (A Juggling Algorithm)\n",
    "* We divide the array in different sets\n",
    "* where number of sets is equal to GCD of (n, d)\n",
    "* and move the elements within sets.\n",
    "\n",
    "**Ex :**  n = 12 , d = 3 and GCD = 3\n",
    "\n",
    "a = [1, 2, 3, 4, 5, 6, 7, 8, 9, 10, 11, 12]\n",
    "\n",
    "First step  -->  [4, 2, 3, 7, 5, 6, 10, 8, 9, 1, 11, 12]\n",
    "\n",
    "second step  -->  [4, 5, 3, 7, 8, 6, 10, 11, 9, 1, 2, 12]\n",
    "\n",
    "Third step  -->  [4, 5, 6, 7, 8, 9, 10, 11, 12, 1, 2, 3]"
   ]
  },
  {
   "cell_type": "code",
   "execution_count": null,
   "metadata": {},
   "outputs": [],
   "source": [
    "def gcd(n, d):\n",
    "    if d == 0:\n",
    "        return n\n",
    "    else:\n",
    "        return gcd(d, n % d)\n",
    "\n",
    "def leftRotate(a, d):\n",
    "    n = len(a)\n",
    "    "
   ]
  }
 ],
 "metadata": {
  "interpreter": {
   "hash": "21a211638620dc4d13124771efa70334ad80aea274b054c266d925d2e2a04b1b"
  },
  "kernelspec": {
   "display_name": "Python 3.10.4 64-bit",
   "language": "python",
   "name": "python3"
  },
  "language_info": {
   "codemirror_mode": {
    "name": "ipython",
    "version": 3
   },
   "file_extension": ".py",
   "mimetype": "text/x-python",
   "name": "python",
   "nbconvert_exporter": "python",
   "pygments_lexer": "ipython3",
   "version": "3.10.4"
  },
  "orig_nbformat": 4
 },
 "nbformat": 4,
 "nbformat_minor": 2
}
