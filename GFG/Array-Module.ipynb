{
 "cells": [
  {
   "cell_type": "markdown",
   "metadata": {},
   "source": [
    "# [2. Array in Python](https://www.geeksforgeeks.org/array-python-set-1-introduction-functions/)\n",
    "* We have `List` and module `array` for specific data type.\n",
    "* The array can be handled in python by a module named “array“. They can be useful when we have to manipulate only specific data type values.\n",
    "## Operations on Array :\n",
    "### 1. array(data type name, value list) :-\n",
    "* Used to create an array with data type and value list specified in its arguments.\n",
    "\n",
    "    Some Data types :\n",
    "\n",
    "<!-- How to create Table--\n",
    " | Stretch/Untouched | ProbDistribution | Accuracy |\n",
    "| --- | --- | --- |\n",
    "| Stretched | Gaussian | .843 |\n",
    "\n",
    "| Stretch/Untouched | ProbDistribution | Accuracy |\n",
    "| :- | -: | :-: |\n",
    "| Stretched | Gaussian | .843 -->\n",
    "\n",
    "| S.No | Type Code | C Type | Python Type | Minimize size in Bytes |\n",
    "| --- | --- | --- | --- | --- |\n",
    "| 1. | 'b' | signed char | int | 1 |\n",
    "| 2. | 'B' | unsigned char | int | 1 |\n",
    "| 3. | 'u' | Py_UNICODE | unicode character | 2 |\n",
    "| 4. | 'h' | signed short | int | 2 |\n",
    "| 5. | 'H' | unsigned short | int | 2 |\n",
    "| 6. | 'i' | signed int | int | 2 |\n",
    "| 7. | 'I' | unsigned int | int | 2 |\n",
    "| 8. | 'l' | signed long | int | 4 |\n",
    "| 9. | 'L' | unsigned long | int | 4 |\n",
    "| 10. | 'q' | signed long long | int | 8 |\n",
    "| 11. | 'Q' | unsigned long long | int | 8 |\n",
    "| 12. | 'f' | float | float | 4 |\n",
    "| 13. | 'd' | double | float | 8 |"
   ]
  },
  {
   "cell_type": "code",
   "execution_count": 95,
   "metadata": {},
   "outputs": [
    {
     "name": "stdout",
     "output_type": "stream",
     "text": [
      "<class 'array.array'> \n",
      " array('i', [1, 2, 3, 4, 5])\n",
      "1 2 3 4 5 "
     ]
    }
   ],
   "source": [
    "import array\n",
    "arr = array.array('i',[1,2,3,4,5])\n",
    "\n",
    "print(type(arr),'\\n',arr)   # arr not printed as array\n",
    "\n",
    "# accessing one by one\n",
    "for i in arr:\n",
    "    print(i, end=\" \")"
   ]
  },
  {
   "cell_type": "markdown",
   "metadata": {},
   "source": [
    "### 2. append()\n",
    "* Used to add the value gives in its arguments at the end of array."
   ]
  },
  {
   "cell_type": "code",
   "execution_count": 96,
   "metadata": {},
   "outputs": [
    {
     "name": "stdout",
     "output_type": "stream",
     "text": [
      "1 2 3 4 5 6 "
     ]
    }
   ],
   "source": [
    "arr.append(6)\n",
    "for i in arr:\n",
    "    print(i, end=\" \")"
   ]
  },
  {
   "cell_type": "markdown",
   "metadata": {},
   "source": [
    "### 3. insert(i,x)\n",
    "* Used to add the value(x) at the ith position.\n",
    "* Each element get shifted to right which is just after added value."
   ]
  },
  {
   "cell_type": "code",
   "execution_count": 97,
   "metadata": {},
   "outputs": [
    {
     "name": "stdout",
     "output_type": "stream",
     "text": [
      "1 2 5 3 4 5 6 "
     ]
    }
   ],
   "source": [
    "arr.insert(2, 5)\n",
    "for i in arr:\n",
    "    print(i, end = \" \")"
   ]
  },
  {
   "cell_type": "markdown",
   "metadata": {},
   "source": [
    "### 4. pop(index)\n",
    "* **Removes the element** in which `index` mentioned in its argument and it `return` the removed value."
   ]
  },
  {
   "cell_type": "code",
   "execution_count": 98,
   "metadata": {},
   "outputs": [
    {
     "name": "stdout",
     "output_type": "stream",
     "text": [
      "2\n",
      "After pop :\n",
      "1 5 3 4 5 6 "
     ]
    }
   ],
   "source": [
    "print(arr.pop(1))\n",
    "print(\"After pop :\")\n",
    "for i in arr:\n",
    "    print(i, end=\" \")"
   ]
  },
  {
   "cell_type": "markdown",
   "metadata": {},
   "source": [
    "### 5. remove(value)\n",
    "* Used to **remove the first occurrence** of the value mentioned in its arguments."
   ]
  },
  {
   "cell_type": "code",
   "execution_count": 99,
   "metadata": {},
   "outputs": [
    {
     "name": "stdout",
     "output_type": "stream",
     "text": [
      "1 3 4 5 6 "
     ]
    }
   ],
   "source": [
    "arr.remove(5)\n",
    "for i in arr:\n",
    "    print(i,end=\" \")"
   ]
  },
  {
   "cell_type": "markdown",
   "metadata": {},
   "source": [
    "### 6. index(value)\n",
    "* It `returns the index` of the first occurrence of mentioned `value` in arguments."
   ]
  },
  {
   "cell_type": "code",
   "execution_count": 100,
   "metadata": {},
   "outputs": [
    {
     "name": "stdout",
     "output_type": "stream",
     "text": [
      "2\n"
     ]
    }
   ],
   "source": [
    "import array\n",
    "arr1 = array.array('i',[1,2,3,4,1,2,3,4])\n",
    "print(arr1.index(3))"
   ]
  },
  {
   "cell_type": "markdown",
   "metadata": {},
   "source": [
    "### 7. reverse()\n",
    "* This function reverse the array.\n",
    "* `No argument` pass is required."
   ]
  },
  {
   "cell_type": "code",
   "execution_count": 101,
   "metadata": {},
   "outputs": [
    {
     "name": "stdout",
     "output_type": "stream",
     "text": [
      "4 3 2 1 4 3 2 1 "
     ]
    }
   ],
   "source": [
    "arr1.reverse()\n",
    "for i in arr1:\n",
    "    print(i,end=\" \")"
   ]
  },
  {
   "cell_type": "markdown",
   "metadata": {},
   "source": [
    "### 8. typecode\n",
    "* This function returns the `data type` by which array is initialized."
   ]
  },
  {
   "cell_type": "code",
   "execution_count": 102,
   "metadata": {},
   "outputs": [
    {
     "name": "stdout",
     "output_type": "stream",
     "text": [
      "i\n"
     ]
    }
   ],
   "source": [
    "print(arr.typecode)"
   ]
  },
  {
   "cell_type": "markdown",
   "metadata": {},
   "source": [
    "### 9. itemsize\n",
    "* This function `returns size` in bytes of a single array element."
   ]
  },
  {
   "cell_type": "code",
   "execution_count": 103,
   "metadata": {},
   "outputs": [
    {
     "name": "stdout",
     "output_type": "stream",
     "text": [
      "4\n"
     ]
    }
   ],
   "source": [
    "print(arr1.itemsize)"
   ]
  },
  {
   "cell_type": "markdown",
   "metadata": {},
   "source": [
    "### 10. buffer_info()\n",
    "* `Returns a tuple` of representing the address in which array is stored and number of elements in that array."
   ]
  },
  {
   "cell_type": "code",
   "execution_count": 104,
   "metadata": {},
   "outputs": [
    {
     "name": "stdout",
     "output_type": "stream",
     "text": [
      "(1965245117040, 8)\n"
     ]
    }
   ],
   "source": [
    "print(arr1.buffer_info())"
   ]
  },
  {
   "cell_type": "markdown",
   "metadata": {},
   "source": [
    "### Instead of importing array, we can also use * to import array"
   ]
  },
  {
   "cell_type": "code",
   "execution_count": 105,
   "metadata": {},
   "outputs": [
    {
     "name": "stdout",
     "output_type": "stream",
     "text": [
      "array('i', [6, 7, 8, 9])\n"
     ]
    }
   ],
   "source": [
    "from array import *\n",
    "arr2 = array('i',[6,7,8,9])\n",
    "print(arr2)"
   ]
  },
  {
   "cell_type": "markdown",
   "metadata": {},
   "source": [
    "### 11. count(element)\n",
    "* This function `counts the number of occurrences` of arguments mentioned in array and `returns` the occurred value."
   ]
  },
  {
   "cell_type": "code",
   "execution_count": 106,
   "metadata": {},
   "outputs": [
    {
     "name": "stdout",
     "output_type": "stream",
     "text": [
      "2\n"
     ]
    }
   ],
   "source": [
    "print(arr1.count(4))"
   ]
  },
  {
   "cell_type": "markdown",
   "metadata": {},
   "source": [
    "### 12. extend(arr)\n",
    "* This function `appends a whole array` mentioned in its arguments to the specified array."
   ]
  },
  {
   "cell_type": "code",
   "execution_count": 107,
   "metadata": {},
   "outputs": [
    {
     "name": "stdout",
     "output_type": "stream",
     "text": [
      "6 7 8 9 1 2 3 4 5 "
     ]
    }
   ],
   "source": [
    "arr3 = array('i',[1,2,3,4,5])\n",
    "arr2.extend(arr3)\n",
    "for i in arr2:\n",
    "    print(i,end=\" \")"
   ]
  },
  {
   "cell_type": "markdown",
   "metadata": {},
   "source": [
    "### 13. fromlist(list)\n",
    "* This function is used to `append a list` mentioned in its argument to end of array."
   ]
  },
  {
   "cell_type": "code",
   "execution_count": 108,
   "metadata": {},
   "outputs": [
    {
     "name": "stdout",
     "output_type": "stream",
     "text": [
      "4 3 2 1 4 3 2 1 11 12 13 14 "
     ]
    }
   ],
   "source": [
    "l = [11,12,13,14]\n",
    "arr1.fromlist(l)\n",
    "for i in arr1:\n",
    "    print(i, end=\" \")"
   ]
  },
  {
   "cell_type": "markdown",
   "metadata": {},
   "source": [
    "### 14. tolist()\n",
    "* This function used to `transform an array into a list`.\n",
    "* No argument is required."
   ]
  },
  {
   "cell_type": "code",
   "execution_count": 109,
   "metadata": {},
   "outputs": [
    {
     "name": "stdout",
     "output_type": "stream",
     "text": [
      "[4, 3, 2, 1, 4, 3, 2, 1, 11, 12, 13, 14]\n"
     ]
    }
   ],
   "source": [
    "newlist = arr1.tolist()\n",
    "print(newlist)"
   ]
  }
 ],
 "metadata": {
  "kernelspec": {
   "display_name": "Python 3.10.6 64-bit",
   "language": "python",
   "name": "python3"
  },
  "language_info": {
   "codemirror_mode": {
    "name": "ipython",
    "version": 3
   },
   "file_extension": ".py",
   "mimetype": "text/x-python",
   "name": "python",
   "nbconvert_exporter": "python",
   "pygments_lexer": "ipython3",
   "version": "3.10.6"
  },
  "orig_nbformat": 4,
  "vscode": {
   "interpreter": {
    "hash": "26de051ba29f2982a8de78e945f0abaf191376122a1563185a90213a26c5da77"
   }
  }
 },
 "nbformat": 4,
 "nbformat_minor": 2
}
