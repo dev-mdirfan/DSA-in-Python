{
 "cells": [
  {
   "cell_type": "markdown",
   "metadata": {},
   "source": [
    "# Permutations in a string\n",
    "\n"
   ]
  },
  {
   "cell_type": "code",
   "execution_count": 1,
   "metadata": {},
   "outputs": [
    {
     "name": "stdout",
     "output_type": "stream",
     "text": [
      "['ABC', 'ACB', 'BAC', 'BCA', 'CBA', 'CAB']\n"
     ]
    },
    {
     "data": {
      "text/plain": [
       "<__main__.solution at 0x23beebebf50>"
      ]
     },
     "execution_count": 1,
     "metadata": {},
     "output_type": "execute_result"
    }
   ],
   "source": [
    "class solution:\n",
    "    def __init__(self, nums) -> None:\n",
    "        result = self.solve(nums)\n",
    "        print([''.join(string) for string in result])\n",
    "    def permute(self, arr, start, end) -> None:\n",
    "        if start == end:\n",
    "            self.ans.append(arr[:])\n",
    "        else:\n",
    "            for index in range(start, end):\n",
    "                arr[start], arr[index] = arr[index], arr[start]\n",
    "                self.permute(arr, start + 1, end)\n",
    "                arr[start], arr[index] = arr[index], arr[start]\n",
    "    \n",
    "    def solve(self, nums) -> list:\n",
    "        arr = list(nums)\n",
    "        self.ans = []\n",
    "        start, end = 0, len(arr)\n",
    "        self.permute(arr, start, end)\n",
    "        return self.ans\n",
    "\n",
    "nums = 'ABC'\n",
    "solution(nums)"
   ]
  },
  {
   "cell_type": "markdown",
   "metadata": {},
   "source": [
    "## Python3 program to print all permutations with duplicates allowed"
   ]
  },
  {
   "cell_type": "code",
   "execution_count": 1,
   "metadata": {},
   "outputs": [
    {
     "name": "stdout",
     "output_type": "stream",
     "text": [
      "ABC\n",
      "ACB\n",
      "BAC\n",
      "BCA\n",
      "CBA\n",
      "CAB\n"
     ]
    }
   ],
   "source": [
    "def toString(List):\n",
    "\treturn ''.join(List)\n",
    "\n",
    "# Function to print permutations of string\n",
    "# This function takes three parameters:\n",
    "# 1. String\n",
    "# 2. Starting index of the string\n",
    "# 3. Ending index of the string.\n",
    "\n",
    "\n",
    "def permute(a, l, r):\n",
    "\tif l == r:\n",
    "\t\tprint(toString(a))\n",
    "\telse:\n",
    "\t\tfor i in range(l, r):\n",
    "\t\t\ta[l], a[i] = a[i], a[l]\n",
    "\t\t\tpermute(a, l+1, r)\n",
    "\t\t\ta[l], a[i] = a[i], a[l] # backtrack\n",
    "\n",
    "\n",
    "# Driver code\n",
    "string = \"ABC\"\n",
    "n = len(string)\n",
    "a = list(string)\n",
    "\n",
    "# Function call\n",
    "permute(a, 0, n)\n",
    "\n",
    "# This code is contributed by Bhavya Jain\n"
   ]
  },
  {
   "cell_type": "code",
   "execution_count": 2,
   "metadata": {},
   "outputs": [
    {
     "name": "stdout",
     "output_type": "stream",
     "text": [
      "['ABC', 'ACB', 'BAC', 'BCA', 'CBA', 'CAB']\n"
     ]
    }
   ],
   "source": [
    "ans = []\n",
    "\n",
    "def permute(arr, start, end):\n",
    "    if start == end:\n",
    "        ans.append(arr[:])\n",
    "    else:\n",
    "        for index in range(start, end):\n",
    "            arr[start], arr[index] = arr[index], arr[start]\n",
    "            permute(arr, start + 1, end)\n",
    "            arr[start], arr[index] = arr[index], arr[start]\n",
    "\n",
    "arr = list('ABC')\n",
    "start, end = 0, len(arr)\n",
    "permute(arr, start, end)\n",
    "print([''.join(x) for x in ans])"
   ]
  },
  {
   "cell_type": "code",
   "execution_count": 3,
   "metadata": {},
   "outputs": [
    {
     "name": "stdout",
     "output_type": "stream",
     "text": [
      "['ABC', 'BAC', 'BCA', 'ACB', 'CAB', 'CBA']\n"
     ]
    }
   ],
   "source": [
    "# By Praveen\n",
    "def compute(word : list) -> list[list]:\n",
    "    if len(word) <= 1:\n",
    "        return [word]\n",
    "    \n",
    "    smallAns : list[list] = compute(word[1:])\n",
    "    ans : list[list] = []\n",
    "    for perm in smallAns:\n",
    "        curr : list = perm[:]\n",
    "        for i in range(0, len(curr) + 1):\n",
    "            curr.insert(i, word[0])\n",
    "            ans.append(curr)\n",
    "            curr : list = perm[:]\n",
    "    return ans\n",
    "\n",
    "def main() -> None:\n",
    "    if __name__ == \"__main__\":\n",
    "        print([\"\".join(x) for x in compute(list(\"ABC\"))])\n",
    "\n",
    "main()"
   ]
  },
  {
   "cell_type": "code",
   "execution_count": null,
   "metadata": {},
   "outputs": [],
   "source": []
  }
 ],
 "metadata": {
  "kernelspec": {
   "display_name": "Python 3",
   "language": "python",
   "name": "python3"
  },
  "language_info": {
   "codemirror_mode": {
    "name": "ipython",
    "version": 3
   },
   "file_extension": ".py",
   "mimetype": "text/x-python",
   "name": "python",
   "nbconvert_exporter": "python",
   "pygments_lexer": "ipython3",
   "version": "3.11.3"
  }
 },
 "nbformat": 4,
 "nbformat_minor": 2
}
