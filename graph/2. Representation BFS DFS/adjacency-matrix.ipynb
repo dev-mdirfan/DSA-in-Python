{
 "cells": [
  {
   "cell_type": "markdown",
   "metadata": {},
   "source": [
    "# Adjacency Matrix\n",
    "\n"
   ]
  },
  {
   "cell_type": "code",
   "execution_count": null,
   "metadata": {},
   "outputs": [],
   "source": [
    "# For Undirected Graph\n",
    "if __name__ == '__main__':\n",
    "    # v is the number of vertices\n",
    "    # edge is the edges\n",
    "    vertices, edges = map(int, input().split())\n",
    "    adjacencyMatrix = [[0 for i in range(vertices)] for j in range(vertices)]\n",
    "    for i in range(vertices):\n",
    "        u, v = map(int, input().split())\n",
    "        adjacencyMatrix[u][v] = 1\n",
    "        adjacencyMatrix[v][u] = 1\n",
    "        # for a directed graph we only need to store from u to, we just assign\n",
    "        # adjacency[u][v] = 1\n"
   ]
  },
  {
   "cell_type": "code",
   "execution_count": null,
   "metadata": {},
   "outputs": [],
   "source": [
    "# For directed Graph\n",
    "if __name__ == '__main__':\n",
    "    vertices, edges = map(int, input().split())\n",
    "    adjacencyMatrix = [[0 for i in range(vertices)] for j in range(vertices)]\n",
    "    for i in range(vertices):\n",
    "        u, v = map(int, input().split())\n",
    "        adjacencyMatrix[u][v] = 1"
   ]
  }
 ],
 "metadata": {
  "kernelspec": {
   "display_name": "Python 3",
   "language": "python",
   "name": "python3"
  },
  "language_info": {
   "codemirror_mode": {
    "name": "ipython",
    "version": 3
   },
   "file_extension": ".py",
   "mimetype": "text/x-python",
   "name": "python",
   "nbconvert_exporter": "python",
   "pygments_lexer": "ipython3",
   "version": "3.11.3"
  }
 },
 "nbformat": 4,
 "nbformat_minor": 2
}
