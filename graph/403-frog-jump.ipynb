{
 "cells": [
  {
   "cell_type": "markdown",
   "metadata": {},
   "source": [
    "# 403. Frog Jump\n",
    "\n",
    "\n",
    "## BFS without queue"
   ]
  },
  {
   "cell_type": "code",
   "execution_count": 6,
   "metadata": {},
   "outputs": [
    {
     "name": "stdout",
     "output_type": "stream",
     "text": [
      "True\n"
     ]
    }
   ],
   "source": [
    "class Solution:\n",
    "    def canCross(self, stones) -> bool:\n",
    "        graph = dict()\n",
    "        \n",
    "        # creating dict of set\n",
    "        for stone in stones:\n",
    "            graph[stone] = set()\n",
    "        \n",
    "        graph[0].add(1)\n",
    "        \n",
    "        for currPosition in stones:\n",
    "            jumps = graph[currPosition]\n",
    "            for jump in jumps:\n",
    "                newPosition = currPosition + jump\n",
    "                # If reach end return True\n",
    "                if newPosition == stones[-1]:\n",
    "                    return True\n",
    "                # if stone position exits then add next jumps\n",
    "                if newPosition in graph:\n",
    "                    if jump - 1 > 0:\n",
    "                        graph[newPosition].add(jump - 1)\n",
    "                    graph[newPosition].add(jump)\n",
    "                    graph[newPosition].add(jump + 1)\n",
    "        return False\n",
    "\n",
    "stones = [0,1,3,5,6,8,12,17]\n",
    "sol = Solution()\n",
    "print(sol.canCross(stones))"
   ]
  },
  {
   "cell_type": "markdown",
   "metadata": {},
   "source": [
    "## Recursion\n",
    "\n",
    "## Pure Recursion: TLE"
   ]
  },
  {
   "cell_type": "code",
   "execution_count": 5,
   "metadata": {},
   "outputs": [
    {
     "name": "stdout",
     "output_type": "stream",
     "text": [
      "True\n"
     ]
    }
   ],
   "source": [
    "class Solution: \n",
    "    def solve(self, currentPosition, previousJump):\n",
    "        # Second Invalid Condition\n",
    "        if previousJump <= 0:\n",
    "            return False\n",
    "        # Third Invalid Condition\n",
    "        if currentPosition not in self.stones:\n",
    "            return False\n",
    "        # Valid Condition Only in reaching end of the stones\n",
    "        if currentPosition == self.stones[-1]:\n",
    "            return True\n",
    "        # Recursion\n",
    "        return self.solve(currentPosition + previousJump - 1, previousJump - 1) or self.solve(currentPosition + previousJump, previousJump) or self.solve(currentPosition + previousJump + 1, previousJump + 1)\n",
    "    def canCross(self, stones) -> bool:\n",
    "        self.stones = stones\n",
    "        # First Invalid Condition\n",
    "        if stones[1] != 1:\n",
    "            return False\n",
    "        return self.solve(1, 1)\n",
    "\n",
    "stones = [0,1,3,5,6,8,12,17]\n",
    "sol = Solution()\n",
    "print(sol.canCross(stones))"
   ]
  },
  {
   "cell_type": "markdown",
   "metadata": {},
   "source": [
    "## 1. Recursion: TLE\n",
    "\n"
   ]
  },
  {
   "cell_type": "code",
   "execution_count": 7,
   "metadata": {},
   "outputs": [
    {
     "name": "stdout",
     "output_type": "stream",
     "text": [
      "[0, 1, 3, 5, 6, 8, 12, 17] : True\n",
      "[0, 1, 2, 3, 4, 8, 9, 11] : False\n"
     ]
    }
   ],
   "source": [
    "# 403. Frog Jump\n",
    "# Frog has to cross the river (or reach the end of the array).\n",
    "# If it is possible return `True`, if not return `False`.\n",
    "\n",
    "\n",
    "# Recursion: T(n) = ?\n",
    "# Pure Recursion: TLE\n",
    "class Solution:\n",
    "    def solve(self, currentPosition, previousJump):\n",
    "        # Second Invalid Condition\n",
    "        if previousJump <= 0:\n",
    "            return False\n",
    "        # Third Invalid Condition\n",
    "        if currentPosition not in self.stones:\n",
    "            return False\n",
    "        # Valid Condition Only in reaching end of the stones\n",
    "        if currentPosition == self.stones[-1]:\n",
    "            return True\n",
    "        # Recursion\n",
    "        return self.solve(currentPosition + previousJump - 1, previousJump - 1) or self.solve(currentPosition + previousJump, previousJump) or self.solve(currentPosition + previousJump + 1, previousJump + 1)\n",
    "    \n",
    "    def canCross(self, stones: list[int]) -> bool:\n",
    "        self.stones = stones\n",
    "        # First Invalid Condition\n",
    "        if stones[1] != 1:\n",
    "            return False\n",
    "        return self.solve(1, 1)\n",
    "\n",
    "if __name__ == '__main__':\n",
    "    stones1 = [0, 1, 3, 5, 6, 8, 12, 17]\n",
    "    stones2 = [0 ,1 ,2 ,3 ,4 ,8 ,9 ,11]\n",
    "    obj = Solution()\n",
    "    print(stones1,':',obj.canCross(stones1))\n",
    "    print(stones2,':',obj.canCross(stones2))"
   ]
  },
  {
   "cell_type": "markdown",
   "metadata": {},
   "source": [
    "## 2. BFS without queue\n"
   ]
  },
  {
   "cell_type": "code",
   "execution_count": 8,
   "metadata": {},
   "outputs": [
    {
     "name": "stdout",
     "output_type": "stream",
     "text": [
      "[0, 1, 3, 5, 6, 8, 12, 17] : True\n",
      "[0, 1, 2, 3, 4, 8, 9, 11] : False\n"
     ]
    }
   ],
   "source": [
    "# 403. Frog Jump\n",
    "# BFS without queue: O( ? )\n",
    "class Solution:\n",
    "    def canCross(self, stones: list[int]) -> bool:\n",
    "        graph = dict()\n",
    "        \n",
    "        # creating dict of set\n",
    "        for stone in stones:\n",
    "            graph[stone] = set()\n",
    "        \n",
    "        graph[0].add(1)\n",
    "        \n",
    "        for currPosition in stones:\n",
    "            jumps = graph[currPosition]\n",
    "            for jump in jumps:\n",
    "                newPosition = currPosition + jump\n",
    "                # If reach end return True\n",
    "                if newPosition == stones[-1]:\n",
    "                    return True\n",
    "                # if stone position exits then add next jumps\n",
    "                if newPosition in graph:\n",
    "                    if jump - 1 > 0:\n",
    "                        graph[newPosition].add(jump - 1)\n",
    "                    graph[newPosition].add(jump)\n",
    "                    graph[newPosition].add(jump + 1)\n",
    "        return False\n",
    "\n",
    "if __name__ == '__main__':\n",
    "    stones1 = [0, 1, 3, 5, 6, 8, 12, 17]\n",
    "    stones2 = [0 ,1 ,2 ,3 ,4 ,8 ,9 ,11]\n",
    "    obj = Solution()\n",
    "    print(stones1,':',obj.canCross(stones1))\n",
    "    print(stones2,':',obj.canCross(stones2))"
   ]
  },
  {
   "cell_type": "markdown",
   "metadata": {},
   "source": [
    "## Recursion with memoization\n",
    "\n"
   ]
  },
  {
   "cell_type": "code",
   "execution_count": 9,
   "metadata": {},
   "outputs": [],
   "source": [
    "# Memoization\n",
    "class Solution2:\n",
    "    def solve(self):\n",
    "        return\n",
    "    \n",
    "\n",
    "# Tabulation\n",
    "class Solution3:\n",
    "    def solve(self):\n",
    "        return\n",
    "    \n",
    "    \n",
    "\n",
    "# BFS\n",
    "class Solution4:\n",
    "    def solve(self):\n",
    "        return"
   ]
  },
  {
   "cell_type": "code",
   "execution_count": null,
   "metadata": {},
   "outputs": [],
   "source": []
  }
 ],
 "metadata": {
  "kernelspec": {
   "display_name": "Python 3",
   "language": "python",
   "name": "python3"
  },
  "language_info": {
   "codemirror_mode": {
    "name": "ipython",
    "version": 3
   },
   "file_extension": ".py",
   "mimetype": "text/x-python",
   "name": "python",
   "nbconvert_exporter": "python",
   "pygments_lexer": "ipython3",
   "version": "3.11.3"
  }
 },
 "nbformat": 4,
 "nbformat_minor": 2
}
