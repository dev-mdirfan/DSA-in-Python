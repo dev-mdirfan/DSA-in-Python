{
 "cells": [
  {
   "cell_type": "markdown",
   "metadata": {},
   "source": [
    "# Dijekstra's Algorithm"
   ]
  },
  {
   "cell_type": "code",
   "execution_count": 1,
   "metadata": {},
   "outputs": [
    {
     "name": "stdout",
     "output_type": "stream",
     "text": [
      "{1: [(2, 5), (3, 7), (4, 8)], 2: [(1, 5), (3, 1), (4, 2)], 3: [(1, 7), (2, 1), (4, 3)], 4: [(1, 8), (2, 2), (3, 3)]}\n",
      "(2, 5)\n",
      "(3, 7)\n",
      "(4, 8)\n",
      "(1, 5)\n",
      "(3, 1)\n",
      "(4, 2)\n",
      "(1, 7)\n",
      "(2, 1)\n",
      "(4, 3)\n",
      "(1, 8)\n",
      "(2, 2)\n",
      "(3, 3)\n",
      "[inf, 0, 5, 6, 7]\n"
     ]
    }
   ],
   "source": [
    "from heapq import heappop, heappush, heapify\n",
    "from math import inf\n",
    "edges = [[1, 2, 5], [1, 3, 7], [1, 4, 8], [2, 3, 1], [2, 4, 2], [3, 4, 3]]\n",
    "source = 1\n",
    "\n",
    "graph = dict()\n",
    "for i in range(len(edges)):\n",
    "    if edges[i][0] in graph:\n",
    "        graph[edges[i][0]].append((edges[i][1], edges[i][2]))\n",
    "    else:\n",
    "        graph[edges[i][0]] = [(edges[i][1], edges[i][2])]\n",
    "    if edges[i][1] in graph:\n",
    "        graph[edges[i][1]].append((edges[i][0], edges[i][2]))\n",
    "    else:\n",
    "        graph[edges[i][1]] = [(edges[i][0], edges[i][2])]\n",
    "\n",
    "print(graph)\n",
    "\n",
    "distance = [inf] * (len(graph) + 1)\n",
    "visited = [False] * (len(graph) + 1)\n",
    "\n",
    "heap = []\n",
    "distance[source] = 0\n",
    "heappush(heap, [distance[source], source])\n",
    "\n",
    "# print(heap)\n",
    "\n",
    "while heap:\n",
    "    currDistance, currNode = heappop(heap)\n",
    "    \n",
    "    if visited[currNode]:\n",
    "        continue\n",
    "    visited[currNode] = True\n",
    "    for pair in graph[currNode]:\n",
    "        print(pair)\n",
    "        if visited[pair[0]]:\n",
    "            continue\n",
    "        newDistance = currDistance + pair[1]\n",
    "        if newDistance < distance[pair[0]]:\n",
    "            distance[pair[0]] = newDistance\n",
    "            heappush(heap, [newDistance, pair[0]])\n",
    "\n",
    "print(distance)\n",
    "\n",
    "\n",
    "\n",
    "# Network Delay"
   ]
  },
  {
   "cell_type": "code",
   "execution_count": null,
   "metadata": {},
   "outputs": [],
   "source": []
  }
 ],
 "metadata": {
  "kernelspec": {
   "display_name": "Python 3",
   "language": "python",
   "name": "python3"
  },
  "language_info": {
   "codemirror_mode": {
    "name": "ipython",
    "version": 3
   },
   "file_extension": ".py",
   "mimetype": "text/x-python",
   "name": "python",
   "nbconvert_exporter": "python",
   "pygments_lexer": "ipython3",
   "version": "3.11.3"
  }
 },
 "nbformat": 4,
 "nbformat_minor": 2
}
