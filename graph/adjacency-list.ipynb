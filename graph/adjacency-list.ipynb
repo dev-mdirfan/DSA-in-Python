{
 "cells": [
  {
   "cell_type": "markdown",
   "metadata": {},
   "source": [
    "# Adjacency List\n",
    "\n"
   ]
  },
  {
   "cell_type": "code",
   "execution_count": 1,
   "metadata": {},
   "outputs": [
    {
     "name": "stdout",
     "output_type": "stream",
     "text": [
      "Adjacency List:- \n",
      "1 : -> 2 -> 4 -> 5\n",
      "2 : -> 1 -> 3 -> 4\n",
      "3 : -> 2 -> 4 -> 6\n",
      "4 : -> 1 -> 2 -> 3 -> 5\n",
      "5 : -> 1 -> 4 -> 6\n",
      "6 : -> 3 -> 5\n"
     ]
    }
   ],
   "source": [
    "from collections import deque\n",
    "\n",
    "class AdjacencyList:\n",
    "    def __init__(self, vertices, edges, source):\n",
    "        self.v = vertices\n",
    "        self.edges = edges\n",
    "        self.s = source\n",
    "    \n",
    "    def buildGraph(self):\n",
    "        graph = [[] for _ in range(self.v + 1)]\n",
    "        for edge in self.edges:\n",
    "            graph[edge[0]].append(edge[1])\n",
    "            graph[edge[1]].append(edge[0])      # Remove in case of directed graph\n",
    "        return graph\n",
    "    \n",
    "    def printGraph(self):\n",
    "        print(\"Adjacency List:- \")\n",
    "        graph = self.buildGraph()\n",
    "        for node in range(1, self.v + 1):\n",
    "            print(node, ':', end='')\n",
    "            for nbr in graph[node]:\n",
    "                print(' ->', nbr, end='')\n",
    "            print()\n",
    "\n",
    "if __name__ == '__main__':\n",
    "    vertices = 6\n",
    "    edges = [[1, 2], [1, 4], [1, 5], [2, 3], [2, 4], [3, 4], [3, 6], [4, 5], [5, 6]]\n",
    "    source = 1      # Node start from 1\n",
    "    graph = AdjacencyList(vertices, edges, source)\n",
    "    graph.printGraph()"
   ]
  },
  {
   "cell_type": "markdown",
   "metadata": {},
   "source": [
    "Note:\n",
    "\n",
    "- Here we create graph v+1 cause we have to include 6 and exclude 0 (1 to 6 nodes)."
   ]
  },
  {
   "cell_type": "code",
   "execution_count": 1,
   "metadata": {},
   "outputs": [
    {
     "name": "stdout",
     "output_type": "stream",
     "text": [
      "Adjacency List of vertex 0\n",
      " head -> 4 -> 1\n",
      "\n",
      "Adjacency List of vertex 1\n",
      " head -> 4 -> 3 -> 2 -> 0\n",
      "\n",
      "Adjacency List of vertex 2\n",
      " head -> 3 -> 1\n",
      "\n",
      "Adjacency List of vertex 3\n",
      " head -> 4 -> 2 -> 1\n",
      "\n",
      "Adjacency List of vertex 4\n",
      " head -> 3 -> 1 -> 0\n",
      "\n"
     ]
    }
   ],
   "source": [
    "# A class represents the adjacency list of the node\n",
    "class adjNode:\n",
    "    def __init__(self, data) -> None:\n",
    "        self.vertex = data\n",
    "        self.next = None\n",
    "\n",
    "# A class is represents a graph. A graph is the list of the adjacency lists.\n",
    "\n",
    "class graph:\n",
    "    def __init__(self, vertices) -> None:\n",
    "        self.v = vertices\n",
    "        self.graph = [None] * self.v\n",
    "    \n",
    "    def add_edge(self, src, dest):\n",
    "        # Adding source node\n",
    "        node = adjNode(dest)\n",
    "        node.next = self.graph[src]\n",
    "        self.graph[src] = node\n",
    "        \n",
    "        # Adding destination node\n",
    "        node = adjNode(src)\n",
    "        node.next = self.graph[dest]\n",
    "        self.graph[dest] = node\n",
    "    \n",
    "    def print_graph(self):\n",
    "        for i in range(self.v):\n",
    "            print('Adjacency List of vertex {}\\n head'.format(i), end='')\n",
    "            temp = self.graph[i]\n",
    "            while temp:\n",
    "                print(' -> {}'.format(temp.vertex), end='')\n",
    "                temp = temp.next\n",
    "            print('\\n')\n",
    "\n",
    "if __name__ == '__main__':\n",
    "    v = 5\n",
    "    Graph = graph(v)\n",
    "    Graph.add_edge(0, 1)\n",
    "    Graph.add_edge(0, 4)\n",
    "    Graph.add_edge(1, 2)\n",
    "    Graph.add_edge(1, 3)\n",
    "    Graph.add_edge(1, 4)\n",
    "    Graph.add_edge(2, 3)\n",
    "    Graph.add_edge(3, 4)\n",
    "    \n",
    "    Graph.print_graph()\n"
   ]
  },
  {
   "cell_type": "code",
   "execution_count": 2,
   "metadata": {},
   "outputs": [
    {
     "name": "stdout",
     "output_type": "stream",
     "text": [
      "0 -> 4 -> 1\n",
      "1 -> 4 -> 3 -> 2 -> 0\n",
      "2 -> 3 -> 1\n",
      "3 -> 4 -> 2 -> 1\n",
      "4 -> 3 -> 1 -> 0\n"
     ]
    }
   ],
   "source": [
    "# Adjacency List\n",
    "class Node:\n",
    "    def __init__(self, data):\n",
    "        self.vertex = data\n",
    "        self.next = None\n",
    "\n",
    "class graph:\n",
    "    def __init__(self, v) -> None:\n",
    "        self.vertices = v\n",
    "        self.graph = [None] * self.vertices\n",
    "    \n",
    "    def add_edge(self, source, destination):\n",
    "        # Adding Source\n",
    "        node = Node(destination)\n",
    "        node.next = self.graph[source]\n",
    "        self.graph[source] = node\n",
    "        \n",
    "        # Adding destination\n",
    "        node = Node(source)\n",
    "        node.next = self.graph[destination]\n",
    "        self.graph[destination] = node\n",
    "    \n",
    "    def printGraph(self):\n",
    "        for i in range(self.vertices):\n",
    "            print(i, end='')\n",
    "            temp = self.graph[i]\n",
    "            while temp:\n",
    "                print(' ->', temp.vertex, end='')\n",
    "                temp = temp.next\n",
    "            print()\n",
    "\n",
    "if __name__ == '__main__':\n",
    "    v = 5\n",
    "    G = graph(v)\n",
    "    G.add_edge(0, 1)\n",
    "    G.add_edge(0, 4)\n",
    "    G.add_edge(1, 2)\n",
    "    G.add_edge(1, 3)\n",
    "    G.add_edge(1, 4)\n",
    "    G.add_edge(2, 3)\n",
    "    G.add_edge(3, 4)\n",
    "    G.printGraph()"
   ]
  },
  {
   "cell_type": "code",
   "execution_count": null,
   "metadata": {},
   "outputs": [],
   "source": []
  }
 ],
 "metadata": {
  "kernelspec": {
   "display_name": "Python 3",
   "language": "python",
   "name": "python3"
  },
  "language_info": {
   "codemirror_mode": {
    "name": "ipython",
    "version": 3
   },
   "file_extension": ".py",
   "mimetype": "text/x-python",
   "name": "python",
   "nbconvert_exporter": "python",
   "pygments_lexer": "ipython3",
   "version": "3.11.3"
  }
 },
 "nbformat": 4,
 "nbformat_minor": 2
}
