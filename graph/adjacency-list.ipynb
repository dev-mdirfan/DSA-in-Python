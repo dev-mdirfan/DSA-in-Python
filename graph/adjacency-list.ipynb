{
 "cells": [
  {
   "cell_type": "markdown",
   "metadata": {},
   "source": [
    "# Adjacency List\n",
    "\n"
   ]
  },
  {
   "cell_type": "code",
   "execution_count": 1,
   "metadata": {},
   "outputs": [
    {
     "name": "stdout",
     "output_type": "stream",
     "text": [
      "Adjacency List:- \n",
      "1 : -> 2 -> 4 -> 5\n",
      "2 : -> 1 -> 3 -> 4\n",
      "3 : -> 2 -> 4 -> 6\n",
      "4 : -> 1 -> 2 -> 3 -> 5\n",
      "5 : -> 1 -> 4 -> 6\n",
      "6 : -> 3 -> 5\n"
     ]
    }
   ],
   "source": [
    "from collections import deque\n",
    "\n",
    "class AdjacencyList:\n",
    "    def __init__(self, vertices, edges, source):\n",
    "        self.v = vertices\n",
    "        self.edges = edges\n",
    "        self.s = source\n",
    "    \n",
    "    def buildGraph(self):\n",
    "        graph = [[] for _ in range(self.v + 1)]\n",
    "        for edge in self.edges:\n",
    "            graph[edge[0]].append(edge[1])\n",
    "            graph[edge[1]].append(edge[0])      # Remove in case of directed graph\n",
    "        return graph\n",
    "    \n",
    "    def printGraph(self):\n",
    "        print(\"Adjacency List:- \")\n",
    "        graph = self.buildGraph()\n",
    "        for node in range(1, self.v + 1):\n",
    "            print(node, ':', end='')\n",
    "            for nbr in graph[node]:\n",
    "                print(' ->', nbr, end='')\n",
    "            print()\n",
    "\n",
    "if __name__ == '__main__':\n",
    "    vertices = 6\n",
    "    edges = [[1, 2], [1, 4], [1, 5], [2, 3], [2, 4], [3, 4], [3, 6], [4, 5], [5, 6]]\n",
    "    source = 1      # Node start from 1\n",
    "    graph = AdjacencyList(vertices, edges, source)\n",
    "    graph.printGraph()"
   ]
  },
  {
   "cell_type": "code",
   "execution_count": null,
   "metadata": {},
   "outputs": [],
   "source": []
  }
 ],
 "metadata": {
  "kernelspec": {
   "display_name": "Python 3",
   "language": "python",
   "name": "python3"
  },
  "language_info": {
   "codemirror_mode": {
    "name": "ipython",
    "version": 3
   },
   "file_extension": ".py",
   "mimetype": "text/x-python",
   "name": "python",
   "nbconvert_exporter": "python",
   "pygments_lexer": "ipython3",
   "version": "3.11.3"
  }
 },
 "nbformat": 4,
 "nbformat_minor": 2
}
