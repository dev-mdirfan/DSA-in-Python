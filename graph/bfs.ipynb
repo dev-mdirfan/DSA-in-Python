{
 "cells": [
  {
   "cell_type": "markdown",
   "metadata": {},
   "source": [
    "# BFS - Breadth First Search\n",
    "\n"
   ]
  },
  {
   "cell_type": "code",
   "execution_count": 6,
   "metadata": {},
   "outputs": [
    {
     "name": "stdout",
     "output_type": "stream",
     "text": [
      "BFS Traversal: [1, 5, 6, 3, 4, 2]\n",
      "1 :  -> 2  -> 4  -> 5\n",
      "2 :  -> 1  -> 3  -> 4\n",
      "3 :  -> 2  -> 4  -> 6  -> 5\n",
      "4 :  -> 1  -> 2  -> 3  -> 5\n",
      "5 :  -> 1  -> 4  -> 3  -> 6\n",
      "6 :  -> 3  -> 5\n"
     ]
    }
   ],
   "source": [
    "from collections import deque\n",
    "\n",
    "class AdjacencyList:\n",
    "    def __init__(self):\n",
    "        pass\n",
    "    \n",
    "    def buildGraph(self, v, edges):\n",
    "        graph = [[] for _ in range(v + 1)]\n",
    "        for edge in edges:\n",
    "            graph[edge[0]].append(edge[1])\n",
    "            graph[edge[1]].append(edge[0])    # remove if directed\n",
    "        return graph\n",
    "    \n",
    "    def printGraph(self, v, edges):\n",
    "        graph = self.buildGraph(v, edges)\n",
    "        for i in range(1, v + 1):\n",
    "            print(i, ':', end='')\n",
    "            for nbr in graph[i]:\n",
    "                print('  ->', nbr, end='')\n",
    "            print()\n",
    "    \n",
    "    def BFS(self, v, edges, src):\n",
    "        graph = self.buildGraph(v, edges)\n",
    "        visited = [False] * (v + 1)\n",
    "        queue = deque()\n",
    "        queue.append(1)\n",
    "        visited[src] = True\n",
    "        \n",
    "        bfsTraversal = []\n",
    "        \n",
    "        while queue:\n",
    "            node = queue.pop()\n",
    "            bfsTraversal.append(node)\n",
    "            for nbr in graph[node]:\n",
    "                if visited[nbr] == False:\n",
    "                    queue.append(nbr)\n",
    "                    visited[nbr] = True\n",
    "        return bfsTraversal\n",
    "\n",
    "if __name__ == '__main__':\n",
    "    v = 6\n",
    "    edges = [[1, 2], [1, 4], [1, 5], [2, 3], [2, 4], [3, 4], [3, 6], [4, 5], [5, 3], [5, 6]]\n",
    "    adjList = AdjacencyList()\n",
    "    adjList.buildGraph(v, edges)\n",
    "    print(\"BFS Traversal:\", adjList.BFS(v, edges, 1))\n",
    "    adjList.printGraph(v, edges)\n"
   ]
  },
  {
   "cell_type": "code",
   "execution_count": 1,
   "metadata": {},
   "outputs": [
    {
     "name": "stdout",
     "output_type": "stream",
     "text": [
      "BFS Traversal:-\n",
      "[1, 2, 4, 5, 3, 6]\n"
     ]
    }
   ],
   "source": [
    "class graph:\n",
    "    def __init__(self, vertices, edges, source):\n",
    "        self.v = vertices\n",
    "        self.e = edges\n",
    "        self.s = source\n",
    "    \n",
    "    def adjacencyList(self):\n",
    "        graph = [[] for _ in range(self.v + 1)]\n",
    "        for edge in self.e:\n",
    "            graph[edge[0]].append(edge[1])\n",
    "            graph[edge[1]].append(edge[0])      # Remove if directed graph\n",
    "        return graph\n",
    "    \n",
    "    def BFS(self):\n",
    "        graph = self.adjacencyList()\n",
    "        visited = [False] * (self.v + 1)\n",
    "        queue = [self.s]\n",
    "        visited[self.s] = True\n",
    "        bfsTraversal = []\n",
    "        print(\"BFS Traversal:-\")\n",
    "        while queue:\n",
    "            node = queue.pop(0)\n",
    "            bfsTraversal.append(node)\n",
    "            for nbr in graph[node]:\n",
    "                if not visited[nbr]:\n",
    "                    queue.append(nbr)\n",
    "                    visited[nbr] = True\n",
    "        return bfsTraversal\n",
    "\n",
    "if __name__ == '__main__':\n",
    "    vertices = 6\n",
    "    edges = [[1, 2], [1, 4], [1, 5], [2, 3], [2, 4], [3, 4], [3, 6], [4, 5], [5, 6]]\n",
    "    source = 1\n",
    "    graph = graph(vertices, edges, source)\n",
    "    print(graph.BFS())"
   ]
  },
  {
   "cell_type": "code",
   "execution_count": null,
   "metadata": {},
   "outputs": [],
   "source": []
  }
 ],
 "metadata": {
  "kernelspec": {
   "display_name": "Python 3",
   "language": "python",
   "name": "python3"
  },
  "language_info": {
   "codemirror_mode": {
    "name": "ipython",
    "version": 3
   },
   "file_extension": ".py",
   "mimetype": "text/x-python",
   "name": "python",
   "nbconvert_exporter": "python",
   "pygments_lexer": "ipython3",
   "version": "3.11.3"
  }
 },
 "nbformat": 4,
 "nbformat_minor": 2
}
