{
 "cells": [
  {
   "cell_type": "markdown",
   "metadata": {},
   "source": [
    "# 3. Euclidean algorithms (Basic and Extended)\n",
    "\n",
    "## 3.1. Basic Euclidean Algorithm"
   ]
  },
  {
   "cell_type": "code",
   "execution_count": 1,
   "metadata": {},
   "outputs": [
    {
     "name": "stdout",
     "output_type": "stream",
     "text": [
      "gcd( 10 , 15 ) =  5\n",
      "gcd( 35 , 10 ) =  5\n",
      "gcd( 31 , 2 ) =  1\n"
     ]
    }
   ],
   "source": [
    "# Function to return gcd of a and b using subtraction\n",
    "# Time Complexity: O(min(a,b))\n",
    "def gcd(a, b):\n",
    "    # Everything divides 0\n",
    "    if (a == 0):\n",
    "        return b\n",
    "    if (b == 0):\n",
    "        return a\n",
    "    if a == b:\n",
    "        return a\n",
    "    return gcd(a-b, b) if a > b else gcd(a, b-a)\n",
    "\n",
    "# Driver code\n",
    "if __name__ == \"__main__\":\n",
    "    a = 10\n",
    "    b = 15\n",
    "    print(\"gcd(\", a, \",\", b, \") = \", gcd(a, b))\n",
    "    \n",
    "    a = 35\n",
    "    b = 10\n",
    "    print(\"gcd(\", a, \",\", b, \") = \", gcd(a, b))\n",
    "    \n",
    "    a = 31\n",
    "    b = 2\n",
    "    print(\"gcd(\", a, \",\", b, \") = \", gcd(a, b))\n",
    "\n"
   ]
  },
  {
   "cell_type": "markdown",
   "metadata": {},
   "source": [
    "### Optimization by checking divisibility:\n",
    "\n",
    "If we notice the previous approach, we can see at some point, one number becomes a factor of the other so instead of repeatedly subtracting till both become equal, we can check if it is a factor of the other.\n",
    "\n"
   ]
  },
  {
   "cell_type": "code",
   "execution_count": 2,
   "metadata": {},
   "outputs": [
    {
     "name": "stdout",
     "output_type": "stream",
     "text": [
      "gcd( 10 , 15 ) =  5\n",
      "gcd( 35 , 10 ) =  5\n",
      "gcd( 31 , 2 ) =  1\n"
     ]
    }
   ],
   "source": [
    "def gcd(a, b):\n",
    "    # Everything divides 0\n",
    "    if a == 0:\n",
    "        return b\n",
    "    if b == 0:\n",
    "        return a\n",
    "\n",
    "    # Base case\n",
    "    if a == b:\n",
    "        return a\n",
    "\n",
    "    # a is greater\n",
    "    if a > b:\n",
    "        return b if a % b == 0 else gcd(a - b, b)\n",
    "    return a if b % a == 0 else gcd(a, b - a)\n",
    "\n",
    "if __name__ == \"__main__\":\n",
    "    a = 10\n",
    "    b = 15\n",
    "    print(\"gcd(\", a, \",\", b, \") = \", gcd(a, b))\n",
    "    \n",
    "    a = 35\n",
    "    b = 10\n",
    "    print(\"gcd(\", a, \",\", b, \") = \", gcd(a, b))\n",
    "    \n",
    "    a = 31\n",
    "    b = 2\n",
    "    print(\"gcd(\", a, \",\", b, \") = \", gcd(a, b))\n",
    "\n",
    "# Time Complexity: O(min(a, b))\n",
    "# Auxiliary Space: O(1)"
   ]
  },
  {
   "cell_type": "markdown",
   "metadata": {},
   "source": [
    "### Optimization using division:"
   ]
  },
  {
   "cell_type": "code",
   "execution_count": 3,
   "metadata": {},
   "outputs": [
    {
     "name": "stdout",
     "output_type": "stream",
     "text": [
      "gcd( 10 , 15 ) =  5\n",
      "gcd( 35 , 10 ) =  5\n",
      "gcd( 31 , 2 ) =  1\n"
     ]
    }
   ],
   "source": [
    "# Function to return gcd of a and b using modulo\n",
    "def gcd(a, b):\n",
    "    # return a if b == 0 else gcd(b, a % b)\n",
    "    return b if a == 0 else gcd(b % a, a)\n",
    "\n",
    "# Driver code\n",
    "if __name__ == \"__main__\":\n",
    "    a = 10\n",
    "    b = 15\n",
    "    print(\"gcd(\", a, \",\", b, \") = \", gcd(a, b))\n",
    "    \n",
    "    a = 35\n",
    "    b = 10\n",
    "    print(\"gcd(\", a, \",\", b, \") = \", gcd(a, b))\n",
    "    \n",
    "    a = 31\n",
    "    b = 2\n",
    "    print(\"gcd(\", a, \",\", b, \") = \", gcd(a, b))\n",
    "\n",
    "# Time Complexity: O(log(min(a, b)))\n",
    "# Auxiliary Space: O(log(min(a,b))\n"
   ]
  },
  {
   "cell_type": "markdown",
   "metadata": {},
   "source": [
    "### Iterative implementation\n"
   ]
  },
  {
   "cell_type": "code",
   "execution_count": 5,
   "metadata": {},
   "outputs": [
    {
     "name": "stdout",
     "output_type": "stream",
     "text": [
      "gcd( 10 , 15 ) =  5\n",
      "gcd( 35 , 10 ) =  5\n",
      "gcd( 31 , 2 ) =  1\n"
     ]
    }
   ],
   "source": [
    "def gcd(a, b):\n",
    "    while b:\n",
    "        a, b = b, a % b\n",
    "    return a\n",
    "\n",
    "# Driver code\n",
    "if __name__ == \"__main__\":\n",
    "    a = 10\n",
    "    b = 15\n",
    "    print(\"gcd(\", a, \",\", b, \") = \", gcd(a, b))\n",
    "    \n",
    "    a = 35\n",
    "    b = 10\n",
    "    print(\"gcd(\", a, \",\", b, \") = \", gcd(a, b))\n",
    "    \n",
    "    a = 31\n",
    "    b = 2\n",
    "    print(\"gcd(\", a, \",\", b, \") = \", gcd(a, b))"
   ]
  },
  {
   "cell_type": "code",
   "execution_count": 6,
   "metadata": {},
   "outputs": [
    {
     "name": "stdout",
     "output_type": "stream",
     "text": [
      "gcd( 10 , 15 ) =  5\n",
      "gcd( 35 , 10 ) =  5\n",
      "gcd( 31 , 2 ) =  1\n"
     ]
    }
   ],
   "source": [
    "def gcd(a, b):\n",
    "    # Everything divides 0\n",
    "    while(a > 0 and b > 0):\n",
    "        if (a > b):\n",
    "            a = a % b\n",
    "        else:\n",
    "            b = b % a\n",
    "    return b if (a == 0) else a\n",
    "\n",
    "if __name__ == \"__main__\":\n",
    "    a = 10\n",
    "    b = 15\n",
    "    print(\"gcd(\", a, \",\", b, \") = \", gcd(a, b))\n",
    "    \n",
    "    a = 35\n",
    "    b = 10\n",
    "    print(\"gcd(\", a, \",\", b, \") = \", gcd(a, b))\n",
    "    \n",
    "    a = 31\n",
    "    b = 2\n",
    "    print(\"gcd(\", a, \",\", b, \") = \", gcd(a, b))\n",
    "\n",
    "# Time Complexity: O(log(min(a,b)))\n",
    "# Auxiliary Space: O(1)"
   ]
  },
  {
   "cell_type": "markdown",
   "metadata": {},
   "source": [
    "## 3.2. Extended Euclidean Algorithm\n"
   ]
  },
  {
   "cell_type": "code",
   "execution_count": 7,
   "metadata": {},
   "outputs": [
    {
     "name": "stdout",
     "output_type": "stream",
     "text": [
      "gcd( 10 , 15 ) =  5 , x =  -1 , y =  1\n",
      "gcd( 35 , 10 ) =  5 , x =  1 , y =  -3\n",
      "gcd( 31 , 2 ) =  1 , x =  1 , y =  -15\n"
     ]
    }
   ],
   "source": [
    "def gcdExtended(a, b):\n",
    "    # Base Case\n",
    "    if a == 0:\n",
    "        return b, 0, 1\n",
    "    gcd, x1, y1 = gcdExtended(b % a, a)\n",
    "    # Update x and y using results of recursive\n",
    "    # call\n",
    "    x = y1 - (b//a) * x1\n",
    "    y = x1\n",
    "    return gcd, x, y\n",
    "\n",
    "if __name__ == \"__main__\":\n",
    "    a = 10\n",
    "    b = 15\n",
    "    g, x, y = gcdExtended(a, b)\n",
    "    print(\"gcd(\", a, \",\", b, \") = \", g, \", x = \", x, \", y = \", y)\n",
    "    \n",
    "    a = 35\n",
    "    b = 10\n",
    "    g, x, y = gcdExtended(a, b)\n",
    "    print(\"gcd(\", a, \",\", b, \") = \", g, \", x = \", x, \", y = \", y)\n",
    "    \n",
    "    a = 31\n",
    "    b = 2\n",
    "    g, x, y = gcdExtended(a, b)\n",
    "    print(\"gcd(\", a, \",\", b, \") = \", g, \", x = \", x, \", y = \", y)"
   ]
  }
 ],
 "metadata": {
  "kernelspec": {
   "display_name": "Python 3",
   "language": "python",
   "name": "python3"
  },
  "language_info": {
   "codemirror_mode": {
    "name": "ipython",
    "version": 3
   },
   "file_extension": ".py",
   "mimetype": "text/x-python",
   "name": "python",
   "nbconvert_exporter": "python",
   "pygments_lexer": "ipython3",
   "version": "3.11.3"
  }
 },
 "nbformat": 4,
 "nbformat_minor": 2
}
