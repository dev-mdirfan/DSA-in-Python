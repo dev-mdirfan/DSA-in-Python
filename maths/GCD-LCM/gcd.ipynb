{
 "cells": [
  {
   "cell_type": "markdown",
   "metadata": {},
   "source": [
    "# GCD or HCF of two numbers\n",
    "\n",
    "Greatest Common Divisor (GCD) or Highest Common Factor (HCF)\n"
   ]
  },
  {
   "cell_type": "markdown",
   "metadata": {},
   "source": [
    "## 1. Naive Approach\n",
    "\n"
   ]
  },
  {
   "cell_type": "code",
   "execution_count": 1,
   "metadata": {},
   "outputs": [
    {
     "name": "stdout",
     "output_type": "stream",
     "text": [
      "gcd( 10 , 15 ) =  5\n",
      "gcd( 35 , 10 ) =  5\n",
      "gcd( 31 , 2 ) =  1\n"
     ]
    }
   ],
   "source": [
    "# Time Complexity: O(min(a,b)) \n",
    "# Auxiliary Space: O(1)\n",
    "def gcd(a, b):\n",
    "    result = min(a, b)\n",
    "    while a % result != 0 or b % result != 0:\n",
    "        result -= 1\n",
    "    return result\n",
    "\n",
    "# Driver code\n",
    "if __name__ == \"__main__\":\n",
    "    a = 10\n",
    "    b = 15\n",
    "    print(\"gcd(\", a, \",\", b, \") = \", gcd(a, b))\n",
    "    \n",
    "    a = 35\n",
    "    b = 10\n",
    "    print(\"gcd(\", a, \",\", b, \") = \", gcd(a, b))\n",
    "    \n",
    "    a = 31\n",
    "    b = 2\n",
    "    print(\"gcd(\", a, \",\", b, \") = \", gcd(a, b))"
   ]
  },
  {
   "cell_type": "markdown",
   "metadata": {},
   "source": [
    "## 2. Inbuilt function\n",
    "\n"
   ]
  },
  {
   "cell_type": "code",
   "execution_count": 2,
   "metadata": {},
   "outputs": [
    {
     "name": "stdout",
     "output_type": "stream",
     "text": [
      "gcd( 10 , 15 ) =  5\n",
      "gcd( 35 , 10 ) =  5\n",
      "gcd( 31 , 2 ) =  1\n"
     ]
    }
   ],
   "source": [
    "import math\n",
    "def gcd(a, b):\n",
    "    return math.gcd(a, b)\n",
    "\n",
    "# Driver code\n",
    "if __name__ == \"__main__\":\n",
    "    a = 10\n",
    "    b = 15\n",
    "    print(\"gcd(\", a, \",\", b, \") = \", gcd(a, b))\n",
    "    \n",
    "    a = 35\n",
    "    b = 10\n",
    "    print(\"gcd(\", a, \",\", b, \") = \", gcd(a, b))\n",
    "    \n",
    "    a = 31\n",
    "    b = 2\n",
    "    print(\"gcd(\", a, \",\", b, \") = \", gcd(a, b))\n",
    "\n",
    "# Time Complexity: O(log(min(a, b)))\n",
    "# Auxiliary Space: O(1)"
   ]
  },
  {
   "cell_type": "markdown",
   "metadata": {},
   "source": [
    "## 3. GCD of more than two numbers\n"
   ]
  },
  {
   "cell_type": "code",
   "execution_count": 3,
   "metadata": {},
   "outputs": [
    {
     "name": "stdout",
     "output_type": "stream",
     "text": [
      "2\n"
     ]
    }
   ],
   "source": [
    "def gcd(a, b):\n",
    "    while b:\n",
    "        a, b = b, a % b\n",
    "    return a\n",
    "\n",
    "# Driver Code         \n",
    "l = [2, 4, 6, 8, 16] \n",
    "\n",
    "result = l[0]\n",
    "for i in range(1, len(l)):\n",
    "    result = gcd(l[i], result)\n",
    "\n",
    "print(result)\n",
    "\n",
    "# Time Complexity: O(N * log(N)), where N is the largest element of the array\n",
    "# Auxiliary Space: O(1)"
   ]
  },
  {
   "cell_type": "code",
   "execution_count": 8,
   "metadata": {},
   "outputs": [
    {
     "name": "stdout",
     "output_type": "stream",
     "text": [
      "2\n"
     ]
    }
   ],
   "source": [
    "def getGCD(a, b): \n",
    "    while(a > 0 and b > 0): \n",
    "        if(a > b): \n",
    "            a = a % b \n",
    "        else: \n",
    "            b = b % a \n",
    "    return b if (a == 0) else a\n",
    "\n",
    "def GcdOfArray(arr): \n",
    "    gcd = 0\n",
    "    for i in range(len(arr)): \n",
    "        gcd = getGCD(gcd, arr[i]) \n",
    "    return gcd\n",
    "\n",
    "# Driver code\n",
    "arr = [2, 4, 6, 8, 16]\n",
    "print(GcdOfArray(arr))\n",
    "\n",
    "# Time Complexity: O(N * log(X)), where X is the largest element of the array\n",
    "# Auxiliary Space: O(1)"
   ]
  },
  {
   "cell_type": "markdown",
   "metadata": {},
   "source": [
    "### Recursive Approach"
   ]
  },
  {
   "cell_type": "code",
   "execution_count": 6,
   "metadata": {},
   "outputs": [
    {
     "name": "stdout",
     "output_type": "stream",
     "text": [
      "2\n"
     ]
    }
   ],
   "source": [
    "# Recursive Approach\n",
    "\n",
    "def gcd(a, b):\n",
    "    return a if b == 0 else gcd(b, a % b)\n",
    "\n",
    "def gcdofArray(arr):\n",
    "    result = arr[0]\n",
    "    for i in range(1, len(arr)):\n",
    "        result = gcd(result, arr[i])\n",
    "        if result == 1:\n",
    "            return 1\n",
    "    return result\n",
    "\n",
    "# Driver Code\n",
    "arr = [2, 4, 6, 8, 16]\n",
    "print(gcdofArray(arr))\n"
   ]
  },
  {
   "cell_type": "code",
   "execution_count": 7,
   "metadata": {},
   "outputs": [
    {
     "name": "stdout",
     "output_type": "stream",
     "text": [
      "2\n"
     ]
    }
   ],
   "source": [
    "import math \n",
    "\n",
    "# Recursive Implementation \n",
    "def GcdOfArray(arr, idx): \n",
    "    if idx == len(arr)-1: \n",
    "        return arr[idx] \n",
    "        \n",
    "    a = arr[idx] \n",
    "    b = GcdOfArray(arr, idx+1) \n",
    "\n",
    "    return math.gcd(a, b)\n",
    "\n",
    "# Driver Code\n",
    "arr = [2, 4, 6, 8, 16]\n",
    "print(GcdOfArray(arr, 0))\n",
    "\n",
    "# Time Complexity: O(N * log(N)), where N is the largest element of the array\n",
    "# Auxiliary Space: O(N)"
   ]
  },
  {
   "cell_type": "code",
   "execution_count": 9,
   "metadata": {},
   "outputs": [],
   "source": []
  }
 ],
 "metadata": {
  "kernelspec": {
   "display_name": "Python 3",
   "language": "python",
   "name": "python3"
  },
  "language_info": {
   "codemirror_mode": {
    "name": "ipython",
    "version": 3
   },
   "file_extension": ".py",
   "mimetype": "text/x-python",
   "name": "python",
   "nbconvert_exporter": "python",
   "pygments_lexer": "ipython3",
   "version": "3.11.3"
  }
 },
 "nbformat": 4,
 "nbformat_minor": 2
}
