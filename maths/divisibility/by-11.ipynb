{
 "cells": [
  {
   "cell_type": "markdown",
   "metadata": {},
   "source": [
    "# Divisibility by 11\n",
    "\n"
   ]
  },
  {
   "cell_type": "code",
   "execution_count": 2,
   "metadata": {},
   "outputs": [],
   "source": [
    "num = 76945"
   ]
  },
  {
   "cell_type": "code",
   "execution_count": 3,
   "metadata": {},
   "outputs": [
    {
     "name": "stdout",
     "output_type": "stream",
     "text": [
      "1\n"
     ]
    }
   ],
   "source": [
    "def divisible_by_11(num):\n",
    "    return 1 if int(num) % 11 == 0 else 0\n",
    "\n",
    "print(divisible_by_11(num))"
   ]
  },
  {
   "cell_type": "code",
   "execution_count": 5,
   "metadata": {},
   "outputs": [
    {
     "name": "stdout",
     "output_type": "stream",
     "text": [
      "1\n"
     ]
    }
   ],
   "source": [
    "def divisible_by_11_v2(num):\n",
    "    evenSum = 0\n",
    "    oddSum = 0\n",
    "    for i in range(len(str(num))):\n",
    "        if i % 2 == 0:\n",
    "            evenSum += int(str(num)[i])\n",
    "        else:\n",
    "            oddSum += int(str(num)[i])\n",
    "    return 1 if (evenSum - oddSum) % 11 == 0 else 0\n",
    "\n",
    "print(divisible_by_11_v2(num))"
   ]
  },
  {
   "cell_type": "markdown",
   "metadata": {},
   "source": [
    "## One Liner\n",
    "\n"
   ]
  },
  {
   "cell_type": "code",
   "execution_count": 6,
   "metadata": {},
   "outputs": [
    {
     "name": "stdout",
     "output_type": "stream",
     "text": [
      "1\n"
     ]
    }
   ],
   "source": [
    "def divisible_by_11(num):\n",
    "    num = str(num)\n",
    "    return (\n",
    "        1\n",
    "        if sum(int(num[i]) * (-1) ** i for i in range(len(num))) % 11 == 0\n",
    "        else 0\n",
    "    )\n",
    "    # return 1 if sum([int(num[i]) * (-1)**i for i in range(len(num))]) % 11 == 0 else 0\n",
    "\n",
    "print(divisible_by_11(num))\n",
    "\n",
    "# Time Complexity: O(n)\n",
    "# Space Complexity: O(1)"
   ]
  },
  {
   "cell_type": "markdown",
   "metadata": {},
   "source": [
    "## Using multiplier variable\n",
    "\n"
   ]
  },
  {
   "cell_type": "code",
   "execution_count": 9,
   "metadata": {},
   "outputs": [
    {
     "name": "stdout",
     "output_type": "stream",
     "text": [
      "True\n"
     ]
    }
   ],
   "source": [
    "def divisible_by_11(num):\n",
    "    alternate_sum = 0\n",
    "    multiplier = 1\n",
    "    while num:\n",
    "        alternate_sum += int(str(num)[-1]) * multiplier\n",
    "        multiplier *= -1\n",
    "        num //= 10\n",
    "    return alternate_sum % 11 == 0\n",
    "\n",
    "print(divisible_by_11(num))"
   ]
  },
  {
   "cell_type": "code",
   "execution_count": 12,
   "metadata": {},
   "outputs": [
    {
     "name": "stdout",
     "output_type": "stream",
     "text": [
      "True\n"
     ]
    }
   ],
   "source": [
    "alternating_sum = 0\n",
    "for i, digit in enumerate(reversed(str(num))):\n",
    "    alternating_sum += (-1) ** i * int(digit)\n",
    "\n",
    "print(alternating_sum % 11 == 0)"
   ]
  },
  {
   "cell_type": "markdown",
   "metadata": {},
   "source": []
  }
 ],
 "metadata": {
  "kernelspec": {
   "display_name": "Python 3",
   "language": "python",
   "name": "python3"
  },
  "language_info": {
   "codemirror_mode": {
    "name": "ipython",
    "version": 3
   },
   "file_extension": ".py",
   "mimetype": "text/x-python",
   "name": "python",
   "nbconvert_exporter": "python",
   "pygments_lexer": "ipython3",
   "version": "3.11.3"
  }
 },
 "nbformat": 4,
 "nbformat_minor": 2
}
