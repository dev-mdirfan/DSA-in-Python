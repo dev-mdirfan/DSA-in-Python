{
 "cells": [
  {
   "cell_type": "markdown",
   "metadata": {},
   "source": [
    "# Divisibility by 12\n",
    "\n"
   ]
  },
  {
   "cell_type": "code",
   "execution_count": 1,
   "metadata": {},
   "outputs": [],
   "source": [
    "num = 12244824607284961224"
   ]
  },
  {
   "cell_type": "code",
   "execution_count": 3,
   "metadata": {},
   "outputs": [
    {
     "name": "stdout",
     "output_type": "stream",
     "text": [
      "True\n"
     ]
    }
   ],
   "source": [
    "def divisible_by_12(num):\n",
    "    return num % 12 == 0\n",
    "\n",
    "print(divisible_by_12(num))"
   ]
  },
  {
   "cell_type": "code",
   "execution_count": 4,
   "metadata": {},
   "outputs": [
    {
     "name": "stdout",
     "output_type": "stream",
     "text": [
      "True\n"
     ]
    }
   ],
   "source": [
    "def divisible_by_12(num):\n",
    "    return (\n",
    "        sum(map(int, str(num))) % 3 == 0\n",
    "        and int(str(num)[len(str(num)) - 1]) % 2 == 0\n",
    "        and int(str(num)[len(str(num)) - 2 :]) % 4 == 0\n",
    "    )\n",
    "\n",
    "print(divisible_by_12(num))"
   ]
  },
  {
   "cell_type": "code",
   "execution_count": 5,
   "metadata": {},
   "outputs": [
    {
     "name": "stdout",
     "output_type": "stream",
     "text": [
      "True\n"
     ]
    }
   ],
   "source": [
    "def divisible_by_12(num):\n",
    "    return (\n",
    "        sum(map(int, str(num))) % 3 == 0\n",
    "        and str(num)[len(str(num)) - 1] in {\"0\", \"2\", \"4\", \"6\", \"8\"}\n",
    "        and int(str(num)[len(str(num)) - 2 :]) % 4 == 0\n",
    "    )\n",
    "\n",
    "print(divisible_by_12(num))"
   ]
  },
  {
   "cell_type": "code",
   "execution_count": 9,
   "metadata": {},
   "outputs": [
    {
     "name": "stdout",
     "output_type": "stream",
     "text": [
      "True\n"
     ]
    }
   ],
   "source": [
    "def divisible_by_12(num):\n",
    "    return (\n",
    "        sum(map(int, str(num))) % 3 == 0\n",
    "        and int(str(num)[len(str(num)) - 2 :]) % 4 == 0\n",
    "    )\n",
    "\n",
    "print(divisible_by_12(num))"
   ]
  },
  {
   "cell_type": "code",
   "execution_count": 11,
   "metadata": {},
   "outputs": [
    {
     "name": "stdout",
     "output_type": "stream",
     "text": [
      "True\n"
     ]
    }
   ],
   "source": [
    "def divisible_by_12(num):\n",
    "    return num % 3 == 0 and int(str(num)[len(str(num)) - 2 :]) % 4 == 0\n",
    "\n",
    "print(divisible_by_12(num))"
   ]
  },
  {
   "cell_type": "code",
   "execution_count": 8,
   "metadata": {},
   "outputs": [
    {
     "name": "stdout",
     "output_type": "stream",
     "text": [
      "True\n"
     ]
    }
   ],
   "source": [
    "def divisible_by_12(num):\n",
    "    if len(str(num)) < 3:\n",
    "        return num % 12 == 0\n",
    "    d = int(str(num)[-1])\n",
    "    if d % 2 != 0:\n",
    "        return False\n",
    "    s = sum(int(i) for i in str(num))\n",
    "    return s % 3 == 0 and (int(str(num)[-2]) * 10 + d) % 4 == 0\n",
    "\n",
    "print(divisible_by_12(num))"
   ]
  }
 ],
 "metadata": {
  "kernelspec": {
   "display_name": "Python 3",
   "language": "python",
   "name": "python3"
  },
  "language_info": {
   "codemirror_mode": {
    "name": "ipython",
    "version": 3
   },
   "file_extension": ".py",
   "mimetype": "text/x-python",
   "name": "python",
   "nbconvert_exporter": "python",
   "pygments_lexer": "ipython3",
   "version": "3.11.3"
  }
 },
 "nbformat": 4,
 "nbformat_minor": 2
}
