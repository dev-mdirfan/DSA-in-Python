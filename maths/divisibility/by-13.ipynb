{
 "cells": [
  {
   "cell_type": "markdown",
   "metadata": {},
   "source": [
    "# Divisible by 13\n",
    "\n"
   ]
  },
  {
   "cell_type": "code",
   "execution_count": 15,
   "metadata": {},
   "outputs": [],
   "source": [
    "num = 83959092724"
   ]
  },
  {
   "cell_type": "markdown",
   "metadata": {},
   "source": [
    "## using % operator\n"
   ]
  },
  {
   "cell_type": "code",
   "execution_count": 16,
   "metadata": {},
   "outputs": [
    {
     "name": "stdout",
     "output_type": "stream",
     "text": [
      "True\n"
     ]
    }
   ],
   "source": [
    "def divisible_by_13(num):\n",
    "    return num % 13 == 0\n",
    "\n",
    "print(divisible_by_13(num))"
   ]
  },
  {
   "cell_type": "markdown",
   "metadata": {},
   "source": [
    "## Using multiplier"
   ]
  },
  {
   "cell_type": "code",
   "execution_count": 18,
   "metadata": {},
   "outputs": [
    {
     "name": "stdout",
     "output_type": "stream",
     "text": [
      "724\n",
      "83959092\n",
      "632\n",
      "83959\n",
      "1591\n",
      "83\n",
      "1508\n",
      "0\n",
      "True\n"
     ]
    }
   ],
   "source": [
    "def divisible_by_13(num):\n",
    "    alternating_sum = 0\n",
    "    multiplier = 1\n",
    "    while num > 0:\n",
    "        alternating_sum += multiplier * (num % 1000)\n",
    "        print(alternating_sum)\n",
    "        multiplier *= -1\n",
    "        num //= 1000\n",
    "        print(num)\n",
    "    #checking if divisible by 11 or not\n",
    "    return alternating_sum % 13 == 0\n",
    "\n",
    "print(divisible_by_13(num))"
   ]
  },
  {
   "cell_type": "code",
   "execution_count": 22,
   "metadata": {},
   "outputs": [
    {
     "name": "stdout",
     "output_type": "stream",
     "text": [
      "True\n"
     ]
    }
   ],
   "source": [
    "# Explain ?\n",
    "def divisible_by_13(num):\n",
    "    num = str(num)\n",
    "    n = len(num)\n",
    "    if n == 1 and num[0] == '0':\n",
    "        return True\n",
    "    if n % 3 == 1:\n",
    "        num += '00'\n",
    "        n += 2\n",
    "    elif n % 3 == 2:\n",
    "        num += '0'\n",
    "        n += 1\n",
    "    s, p = 0, 1\n",
    "    for i in range(n-1, -1, -1):\n",
    "        group = 0\n",
    "        group += ord(num[i]) - ord('0')\n",
    "        i -= 1\n",
    "        group += (ord(num[i]) - ord('0')) * 10\n",
    "        i -= 1\n",
    "        group += (ord(num[i]) - ord('0')) * 100\n",
    "\n",
    "        s = s + group * p\n",
    "        p *= -1\n",
    "    s = abs(s)\n",
    "    return s % 13 == 0\n",
    "\n",
    "print(divisible_by_13(num))"
   ]
  },
  {
   "cell_type": "markdown",
   "metadata": {},
   "source": [
    "# Using lookup table method\n"
   ]
  },
  {
   "cell_type": "code",
   "execution_count": 26,
   "metadata": {},
   "outputs": [
    {
     "name": "stdout",
     "output_type": "stream",
     "text": [
      "True\n"
     ]
    }
   ],
   "source": [
    "remainders = [0, 1, 2, 3, 4, 5, -1, -2, -3, -4, -5, 1, 0]\n",
    "\n",
    "def divisible_by_13(number):\n",
    "    blocks = []\n",
    "    while number > 0:\n",
    "        blocks.append(number % 1000)\n",
    "        number //= 1000\n",
    "    remainder = 0\n",
    "    for block in blocks:\n",
    "        remainder = remainders[(remainder * 1000 + block) % 13]\n",
    "    return remainder == 0\n",
    "\n",
    "print(divisible_by_13(num))"
   ]
  }
 ],
 "metadata": {
  "kernelspec": {
   "display_name": "Python 3",
   "language": "python",
   "name": "python3"
  },
  "language_info": {
   "codemirror_mode": {
    "name": "ipython",
    "version": 3
   },
   "file_extension": ".py",
   "mimetype": "text/x-python",
   "name": "python",
   "nbconvert_exporter": "python",
   "pygments_lexer": "ipython3",
   "version": "3.11.3"
  }
 },
 "nbformat": 4,
 "nbformat_minor": 2
}
