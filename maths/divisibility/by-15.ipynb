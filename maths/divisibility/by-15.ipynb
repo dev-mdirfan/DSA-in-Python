{
 "cells": [
  {
   "cell_type": "markdown",
   "metadata": {},
   "source": [
    "# Divisible by 15"
   ]
  },
  {
   "cell_type": "code",
   "execution_count": 1,
   "metadata": {},
   "outputs": [],
   "source": [
    "num = 15645746327462384723984023940239"
   ]
  },
  {
   "cell_type": "code",
   "execution_count": 3,
   "metadata": {},
   "outputs": [
    {
     "name": "stdout",
     "output_type": "stream",
     "text": [
      "False\n"
     ]
    }
   ],
   "source": [
    "def divisible_by_15(num):\n",
    "    return num % 15 == 0\n",
    "\n",
    "print(divisible_by_15(num))"
   ]
  },
  {
   "cell_type": "code",
   "execution_count": 2,
   "metadata": {},
   "outputs": [
    {
     "name": "stdout",
     "output_type": "stream",
     "text": [
      "False\n"
     ]
    }
   ],
   "source": [
    "# to find sum\n",
    "def accumulate(s): \n",
    "    return sum(ord(s[i]) - 48 for i in range(len(s)))\n",
    "\n",
    "def isDivisible(s):\n",
    "    # length of string\n",
    "    n = len(s)\n",
    "    # check divisibility by 5\n",
    "    if s[n - 1] not in ['5', '0']:\n",
    "        return False\n",
    "\n",
    "    # Sum of digits\n",
    "    s = accumulate(s)\n",
    "    # if divisible by 3\n",
    "    return (s % 3 == 0)\n",
    "\n",
    "print(isDivisible(str(num)))"
   ]
  },
  {
   "cell_type": "code",
   "execution_count": 4,
   "metadata": {},
   "outputs": [
    {
     "name": "stdout",
     "output_type": "stream",
     "text": [
      "False\n"
     ]
    }
   ],
   "source": [
    "def divisible_by_15(num):\n",
    "    return num % 3 == 0 and str(num)[-1] in ['5', '0']\n",
    "\n",
    "print(divisible_by_15(num))"
   ]
  }
 ],
 "metadata": {
  "kernelspec": {
   "display_name": "Python 3",
   "language": "python",
   "name": "python3"
  },
  "language_info": {
   "codemirror_mode": {
    "name": "ipython",
    "version": 3
   },
   "file_extension": ".py",
   "mimetype": "text/x-python",
   "name": "python",
   "nbconvert_exporter": "python",
   "pygments_lexer": "ipython3",
   "version": "3.11.3"
  }
 },
 "nbformat": 4,
 "nbformat_minor": 2
}
