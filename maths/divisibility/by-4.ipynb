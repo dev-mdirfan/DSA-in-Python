{
 "cells": [
  {
   "cell_type": "markdown",
   "metadata": {},
   "source": [
    "# Divisible by 4"
   ]
  },
  {
   "cell_type": "code",
   "execution_count": 4,
   "metadata": {},
   "outputs": [],
   "source": [
    "num = 76952"
   ]
  },
  {
   "cell_type": "code",
   "execution_count": 8,
   "metadata": {},
   "outputs": [
    {
     "name": "stdout",
     "output_type": "stream",
     "text": [
      "True\n"
     ]
    }
   ],
   "source": [
    "def divisible1(num):\n",
    "    str_num = str(num)\n",
    "    length = len(str_num)\n",
    "    if length == 0:\n",
    "        return False\n",
    "    if length == 1:\n",
    "        return int(str_num) % 4 == 0\n",
    "    last = int(str_num[-1])\n",
    "    second_last = int(str_num[-2])\n",
    "    # str_num = str_num[:-2] # str_num[length - 2:]\n",
    "    return int(second_last * 10 + last) % 4 == 0\n",
    "\n",
    "print(divisible1(num))"
   ]
  },
  {
   "cell_type": "code",
   "execution_count": 5,
   "metadata": {},
   "outputs": [
    {
     "name": "stdout",
     "output_type": "stream",
     "text": [
      "True\n"
     ]
    }
   ],
   "source": [
    "# Faster than previous cause of type conversion for large numbers\n",
    "def divisible2(num):\n",
    "    return (num % 100) % 4 == 0\n",
    "print(divisible2(num))"
   ]
  },
  {
   "cell_type": "code",
   "execution_count": 3,
   "metadata": {},
   "outputs": [
    {
     "name": "stdout",
     "output_type": "stream",
     "text": [
      "Divisible by 4\n"
     ]
    }
   ],
   "source": [
    "if num % 4 == 0:\n",
    "    print(\"Divisible by 4\")\n",
    "else:\n",
    "    print(\"Not divisible by 4\")"
   ]
  }
 ],
 "metadata": {
  "kernelspec": {
   "display_name": "Python 3",
   "language": "python",
   "name": "python3"
  },
  "language_info": {
   "codemirror_mode": {
    "name": "ipython",
    "version": 3
   },
   "file_extension": ".py",
   "mimetype": "text/x-python",
   "name": "python",
   "nbconvert_exporter": "python",
   "pygments_lexer": "ipython3",
   "version": "3.11.3"
  }
 },
 "nbformat": 4,
 "nbformat_minor": 2
}
