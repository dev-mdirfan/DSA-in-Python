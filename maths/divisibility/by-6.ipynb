{
 "cells": [
  {
   "cell_type": "markdown",
   "metadata": {},
   "source": [
    "# Divisibility by 6"
   ]
  },
  {
   "cell_type": "code",
   "execution_count": 1,
   "metadata": {},
   "outputs": [],
   "source": [
    "num = 2112"
   ]
  },
  {
   "cell_type": "code",
   "execution_count": 2,
   "metadata": {},
   "outputs": [
    {
     "name": "stdout",
     "output_type": "stream",
     "text": [
      "The number is divisible by 6\n"
     ]
    }
   ],
   "source": [
    "if num % 6 == 0:\n",
    "    print(\"The number is divisible by 6\")\n",
    "else:\n",
    "    print(\"The number is not divisible by 6\")"
   ]
  },
  {
   "cell_type": "code",
   "execution_count": 12,
   "metadata": {},
   "outputs": [
    {
     "name": "stdout",
     "output_type": "stream",
     "text": [
      "True\n"
     ]
    }
   ],
   "source": [
    "def divisible_by_6(num):\n",
    "    return num % 2 == 0 and num % 3 == 0\n",
    "\n",
    "print(divisible_by_6(num))\n",
    "\n",
    "# time complexity is O(1)\n",
    "# space complexity is O(1)"
   ]
  },
  {
   "cell_type": "code",
   "execution_count": 10,
   "metadata": {},
   "outputs": [
    {
     "name": "stdout",
     "output_type": "stream",
     "text": [
      "True\n"
     ]
    }
   ],
   "source": [
    "def divisible_by_6(num):\n",
    "    return (num % 10) % 2 == 0 and num % 3 == 0\n",
    "\n",
    "print(divisible_by_6(num))\n",
    "\n",
    "# time complexity is O(1)\n",
    "# space complexity is O(1)"
   ]
  },
  {
   "cell_type": "code",
   "execution_count": 9,
   "metadata": {},
   "outputs": [
    {
     "name": "stdout",
     "output_type": "stream",
     "text": [
      "True\n"
     ]
    }
   ],
   "source": [
    "def divisible_by_6(num):\n",
    "    return (num % 10) % 2 == 0 and sum(int(i) for i in str(num)) % 3 == 0\n",
    "\n",
    "print(divisible_by_6(num))\n",
    "\n",
    "# time complexity is O(n) where n is the number of digits in the number\n",
    "# space complexity is O(1)"
   ]
  }
 ],
 "metadata": {
  "kernelspec": {
   "display_name": "Python 3",
   "language": "python",
   "name": "python3"
  },
  "language_info": {
   "codemirror_mode": {
    "name": "ipython",
    "version": 3
   },
   "file_extension": ".py",
   "mimetype": "text/x-python",
   "name": "python",
   "nbconvert_exporter": "python",
   "pygments_lexer": "ipython3",
   "version": "3.11.3"
  }
 },
 "nbformat": 4,
 "nbformat_minor": 2
}
