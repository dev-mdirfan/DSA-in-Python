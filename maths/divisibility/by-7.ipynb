{
 "cells": [
  {
   "cell_type": "markdown",
   "metadata": {},
   "source": [
    "# Divisibility by 7\n"
   ]
  },
  {
   "cell_type": "code",
   "execution_count": 1,
   "metadata": {},
   "outputs": [],
   "source": [
    "num = 371"
   ]
  },
  {
   "cell_type": "code",
   "execution_count": 2,
   "metadata": {},
   "outputs": [
    {
     "name": "stdout",
     "output_type": "stream",
     "text": [
      "The number is divisible by 7\n"
     ]
    }
   ],
   "source": [
    "if num % 7 == 0:\n",
    "    print(\"The number is divisible by 7\")\n",
    "else:\n",
    "    print(\"The number is not divisible by 7\")"
   ]
  },
  {
   "cell_type": "code",
   "execution_count": 4,
   "metadata": {},
   "outputs": [
    {
     "name": "stdout",
     "output_type": "stream",
     "text": [
      "True\n"
     ]
    }
   ],
   "source": [
    "def is_divisible_by_7(num):\n",
    "    # If number is negative, make it positive\n",
    "    if num < 0 :\n",
    "        return is_divisible_by_7( -num )\n",
    "    # Base cases\n",
    "    # if( num == 0 or num == 7 ):\n",
    "    if num in [0, 7]:\n",
    "        return True\n",
    "    if( num < 10 ) :\n",
    "        return False\n",
    "    # Recur for ( num / 10 - 2 * num % 10 )\n",
    "    return is_divisible_by_7( num // 10 - 2 * ( num - num // 10 * 10 ) )\n",
    "\n",
    "print(is_divisible_by_7(num))"
   ]
  }
 ],
 "metadata": {
  "kernelspec": {
   "display_name": "Python 3",
   "language": "python",
   "name": "python3"
  },
  "language_info": {
   "codemirror_mode": {
    "name": "ipython",
    "version": 3
   },
   "file_extension": ".py",
   "mimetype": "text/x-python",
   "name": "python",
   "nbconvert_exporter": "python",
   "pygments_lexer": "ipython3",
   "version": "3.11.3"
  }
 },
 "nbformat": 4,
 "nbformat_minor": 2
}
